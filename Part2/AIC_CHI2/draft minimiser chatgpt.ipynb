{
 "cells": [
  {
   "cell_type": "code",
   "execution_count": 55,
   "id": "50a2b3e4",
   "metadata": {},
   "outputs": [],
   "source": [
    "from iminuit import describe, Minuit\n",
    "import numpy as np"
   ]
  },
  {
   "cell_type": "code",
   "execution_count": 56,
   "id": "cbcbfe25",
   "metadata": {},
   "outputs": [],
   "source": [
    "def model_func_1(x, a, b):\n",
    "    return a * x + b\n",
    "\n",
    "def model_func_2(x, c, d, e):\n",
    "    return c * x - np.exp( d * x) + e\n",
    "\n",
    "\n",
    "x_data = np.array([0,1,2,3,4,5,6,7,9,10])"
   ]
  },
  {
   "cell_type": "code",
   "execution_count": 59,
   "id": "b397cc0a",
   "metadata": {},
   "outputs": [
    {
     "data": {
      "text/plain": [
       "['a', 'b']"
      ]
     },
     "execution_count": 59,
     "metadata": {},
     "output_type": "execute_result"
    }
   ],
   "source": [
    "def model_func_1(x, a, b):\n",
    "    return a * x + b\n",
    "\n",
    "def model_func_2(x, c, d, e):\n",
    "    return c * x - np.exp( d * x) + e\n",
    "\n",
    "\n",
    "x_data = np.array([0,1,2,3,4,5,6,7,9,10])\n",
    "\n",
    "def NegativeLogLikelihood(model, **par):\n",
    "    \n",
    "    parameter_names = describe(model)[1:]  # assume that the first parameter is 'x'\n",
    "\n",
    "\n",
    "    return - np.sum(np.log(model(x,**par)))\n",
    "\n"
   ]
  },
  {
   "cell_type": "code",
   "execution_count": 57,
   "id": "069a6c61",
   "metadata": {},
   "outputs": [
    {
     "ename": "SyntaxError",
     "evalue": "invalid syntax (1201834975.py, line 1)",
     "output_type": "error",
     "traceback": [
      "\u001b[0;36m  Cell \u001b[0;32mIn[57], line 1\u001b[0;36m\u001b[0m\n\u001b[0;31m    [name: None for name in param_names]\u001b[0m\n\u001b[0m         ^\u001b[0m\n\u001b[0;31mSyntaxError\u001b[0m\u001b[0;31m:\u001b[0m invalid syntax\n"
     ]
    }
   ],
   "source": [
    "[name: None for name in param_names]"
   ]
  },
  {
   "cell_type": "code",
   "execution_count": null,
   "id": "26e77bd0",
   "metadata": {},
   "outputs": [],
   "source": []
  },
  {
   "cell_type": "code",
   "execution_count": 25,
   "id": "832e04df",
   "metadata": {},
   "outputs": [],
   "source": [
    "def set_var_if_None(var, x):\n",
    "    if var is not None:\n",
    "        return np.array(var)\n",
    "    else: \n",
    "        return np.ones_like(x)\n",
    "def compute_f(f, x, *par):\n",
    "    \n",
    "    try:\n",
    "        return f(x, *par)\n",
    "    except ValueError:\n",
    "        return np.array([f(xi, *par) for xi in x])"
   ]
  },
  {
   "cell_type": "code",
   "execution_count": 44,
   "id": "fc10d0ff",
   "metadata": {},
   "outputs": [],
   "source": [
    "xdata=[1,2,3,5,6]"
   ]
  },
  {
   "cell_type": "code",
   "execution_count": 50,
   "id": "a0d4743b",
   "metadata": {},
   "outputs": [
    {
     "ename": "TypeError",
     "evalue": "can only concatenate list (not \"int\") to list",
     "output_type": "error",
     "traceback": [
      "\u001b[0;31m---------------------------------------------------------------------------\u001b[0m",
      "\u001b[0;31mTypeError\u001b[0m                                 Traceback (most recent call last)",
      "Cell \u001b[0;32mIn[50], line 1\u001b[0m\n\u001b[0;32m----> 1\u001b[0m compute_f(modelfunc, xdata, \u001b[38;5;241m1\u001b[39m, \u001b[38;5;241m2\u001b[39m)\n",
      "Cell \u001b[0;32mIn[25], line 9\u001b[0m, in \u001b[0;36mcompute_f\u001b[0;34m(f, x, *par)\u001b[0m\n\u001b[1;32m      6\u001b[0m \u001b[38;5;28;01mdef\u001b[39;00m \u001b[38;5;21mcompute_f\u001b[39m(f, x, \u001b[38;5;241m*\u001b[39mpar):\n\u001b[1;32m      8\u001b[0m     \u001b[38;5;28;01mtry\u001b[39;00m:\n\u001b[0;32m----> 9\u001b[0m         \u001b[38;5;28;01mreturn\u001b[39;00m f(x, \u001b[38;5;241m*\u001b[39mpar)\n\u001b[1;32m     10\u001b[0m     \u001b[38;5;28;01mexcept\u001b[39;00m \u001b[38;5;167;01mValueError\u001b[39;00m:\n\u001b[1;32m     11\u001b[0m         \u001b[38;5;28;01mreturn\u001b[39;00m np\u001b[38;5;241m.\u001b[39marray([f(xi, \u001b[38;5;241m*\u001b[39mpar) \u001b[38;5;28;01mfor\u001b[39;00m xi \u001b[38;5;129;01min\u001b[39;00m x])\n",
      "Cell \u001b[0;32mIn[2], line 2\u001b[0m, in \u001b[0;36mmodelfunc\u001b[0;34m(x, a, b)\u001b[0m\n\u001b[1;32m      1\u001b[0m \u001b[38;5;28;01mdef\u001b[39;00m \u001b[38;5;21mmodelfunc\u001b[39m(x, a, b):\n\u001b[0;32m----> 2\u001b[0m     \u001b[38;5;28;01mreturn\u001b[39;00m a\u001b[38;5;241m*\u001b[39mx\u001b[38;5;241m+\u001b[39mb\n",
      "\u001b[0;31mTypeError\u001b[0m: can only concatenate list (not \"int\") to list"
     ]
    }
   ],
   "source": [
    "compute_f(modelfunc, xdata, 1, 2)"
   ]
  },
  {
   "cell_type": "code",
   "execution_count": 51,
   "id": "2633e5fa",
   "metadata": {},
   "outputs": [],
   "source": [
    "class UnbinnedLH:  # override the class with a better one\n",
    "    \n",
    "    def __init__(self, f, data, _parameters=None, weights=None, bound=None, badvalue=-100000, extended=False, extended_bound=None,\n",
    "                 extended_nint=100):\n",
    "        \n",
    "        if bound is not None:\n",
    "            data = np.array(data)\n",
    "            mask = (data >= bound[0]) & (data <= bound[1])\n",
    "            data = data[mask]\n",
    "            if (weights is not None) :\n",
    "                weights = weights[mask]\n",
    "\n",
    "        self.f = f  # model predicts PDF for given x\n",
    "        self.data = np.array(data)\n",
    "        self.weights = set_var_if_None(weights, self.data)\n",
    "        self.bad_value = badvalue\n",
    "        \n",
    "        self.extended = extended\n",
    "        self.extended_bound = extended_bound\n",
    "        self.extended_nint = extended_nint\n",
    "        if extended and extended_bound is None:\n",
    "            self.extended_bound = (np.min(data), np.max(data))\n",
    "\n",
    "        \n",
    "        #self.func_code = make_func_code(describe(self.f)[1:])\n",
    "        \n",
    "        # Updated part: Use _parameters instead of func_code\n",
    "        param_names = describe(self.f)[1:]  # assuming the first parameter is 'x'\n",
    "        self._parameters = {name: None for name in param_names}\n",
    "\n",
    "    def __call__(self, **par):  # par are a variable number of model parameters\n",
    "        \n",
    "        logf = np.zeros_like(self.data)\n",
    "        \n",
    "        # compute the function value\n",
    "        f = compute_f(self.f, self.data, **par)\n",
    "    \n",
    "        # find where the PDF is 0 or negative (unphysical)        \n",
    "        mask_f_positive = (f>0)\n",
    "\n",
    "        # calculate the log of f everyhere where f is positive\n",
    "        logf[mask_f_positive] = np.log(f[mask_f_positive]) * self.weights[mask_f_positive] \n",
    "        \n",
    "        # set everywhere else to badvalue\n",
    "        logf[~mask_f_positive] = self.bad_value\n",
    "        \n",
    "        # compute the sum of the log values: the LLH\n",
    "        llh = -np.sum(logf)\n",
    "        \n",
    "        if self.extended:\n",
    "            extended_term = integrate1d(self.f, self.extended_bound, self.extended_nint, **par)\n",
    "            llh += extended_term\n",
    "        \n",
    "        return llh\n",
    "    \n",
    "    def default_errordef(self):\n",
    "        return 0.5"
   ]
  },
  {
   "cell_type": "code",
   "execution_count": 52,
   "id": "2b7e978a",
   "metadata": {},
   "outputs": [],
   "source": [
    "xdata = [1,2,4,3,7,8,9,10]\n",
    "ubll= UnbinnedLH(modelfunc, xdata)"
   ]
  },
  {
   "cell_type": "code",
   "execution_count": 53,
   "id": "6abba88d",
   "metadata": {},
   "outputs": [],
   "source": [
    "from iminuit import Minuit"
   ]
  },
  {
   "cell_type": "code",
   "execution_count": 54,
   "id": "3b8937d0",
   "metadata": {},
   "outputs": [
    {
     "ename": "RuntimeError",
     "evalue": "a is not one of the parameters []",
     "output_type": "error",
     "traceback": [
      "\u001b[0;31m---------------------------------------------------------------------------\u001b[0m",
      "\u001b[0;31mRuntimeError\u001b[0m                              Traceback (most recent call last)",
      "Cell \u001b[0;32mIn[54], line 1\u001b[0m\n\u001b[0;32m----> 1\u001b[0m m\u001b[38;5;241m=\u001b[39mMinuit(ubll, a\u001b[38;5;241m=\u001b[39m\u001b[38;5;241m1\u001b[39m, b\u001b[38;5;241m=\u001b[39m\u001b[38;5;241m2\u001b[39m)\n",
      "File \u001b[0;32m/Applications/anaconda3/lib/python3.11/site-packages/iminuit/minuit.py:625\u001b[0m, in \u001b[0;36mMinuit.__init__\u001b[0;34m(***failed resolving arguments***)\u001b[0m\n\u001b[1;32m    617\u001b[0m \u001b[38;5;28mself\u001b[39m\u001b[38;5;241m.\u001b[39m_strategy \u001b[38;5;241m=\u001b[39m MnStrategy(\u001b[38;5;241m1\u001b[39m)\n\u001b[1;32m    618\u001b[0m \u001b[38;5;28mself\u001b[39m\u001b[38;5;241m.\u001b[39m_fcn \u001b[38;5;241m=\u001b[39m FCN(\n\u001b[1;32m    619\u001b[0m     fcn,\n\u001b[1;32m    620\u001b[0m     \u001b[38;5;28mgetattr\u001b[39m(fcn, \u001b[38;5;124m\"\u001b[39m\u001b[38;5;124mgrad\u001b[39m\u001b[38;5;124m\"\u001b[39m, grad),\n\u001b[1;32m    621\u001b[0m     array_call,\n\u001b[1;32m    622\u001b[0m     \u001b[38;5;28mgetattr\u001b[39m(fcn, \u001b[38;5;124m\"\u001b[39m\u001b[38;5;124merrordef\u001b[39m\u001b[38;5;124m\"\u001b[39m, \u001b[38;5;241m1.0\u001b[39m),\n\u001b[1;32m    623\u001b[0m )\n\u001b[0;32m--> 625\u001b[0m \u001b[38;5;28mself\u001b[39m\u001b[38;5;241m.\u001b[39m_init_state \u001b[38;5;241m=\u001b[39m _make_init_state(\u001b[38;5;28mself\u001b[39m\u001b[38;5;241m.\u001b[39m_pos2var, start, kwds)\n\u001b[1;32m    626\u001b[0m \u001b[38;5;28mself\u001b[39m\u001b[38;5;241m.\u001b[39m_values \u001b[38;5;241m=\u001b[39m mutil\u001b[38;5;241m.\u001b[39mValueView(\u001b[38;5;28mself\u001b[39m)\n\u001b[1;32m    627\u001b[0m \u001b[38;5;28mself\u001b[39m\u001b[38;5;241m.\u001b[39m_errors \u001b[38;5;241m=\u001b[39m mutil\u001b[38;5;241m.\u001b[39mErrorView(\u001b[38;5;28mself\u001b[39m)\n",
      "File \u001b[0;32m/Applications/anaconda3/lib/python3.11/site-packages/iminuit/minuit.py:2470\u001b[0m, in \u001b[0;36m_make_init_state\u001b[0;34m(pos2var, args, kwds)\u001b[0m\n\u001b[1;32m   2468\u001b[0m     \u001b[38;5;28;01mfor\u001b[39;00m kw \u001b[38;5;129;01min\u001b[39;00m kwds:\n\u001b[1;32m   2469\u001b[0m         \u001b[38;5;28;01mif\u001b[39;00m kw \u001b[38;5;129;01mnot\u001b[39;00m \u001b[38;5;129;01min\u001b[39;00m pos2var:\n\u001b[0;32m-> 2470\u001b[0m             \u001b[38;5;28;01mraise\u001b[39;00m \u001b[38;5;167;01mRuntimeError\u001b[39;00m(\n\u001b[1;32m   2471\u001b[0m                 \u001b[38;5;124mf\u001b[39m\u001b[38;5;124m\"\u001b[39m\u001b[38;5;132;01m{\u001b[39;00mkw\u001b[38;5;132;01m}\u001b[39;00m\u001b[38;5;124m is not one of the parameters [\u001b[39m\u001b[38;5;132;01m{\u001b[39;00m\u001b[38;5;124m'\u001b[39m\u001b[38;5;124m \u001b[39m\u001b[38;5;124m'\u001b[39m\u001b[38;5;241m.\u001b[39mjoin(pos2var)\u001b[38;5;132;01m}\u001b[39;00m\u001b[38;5;124m]\u001b[39m\u001b[38;5;124m\"\u001b[39m\n\u001b[1;32m   2472\u001b[0m             )\n\u001b[1;32m   2473\u001b[0m     nargs \u001b[38;5;241m=\u001b[39m \u001b[38;5;28mlen\u001b[39m(kwds)\n\u001b[1;32m   2475\u001b[0m \u001b[38;5;28;01mif\u001b[39;00m \u001b[38;5;28mlen\u001b[39m(pos2var) \u001b[38;5;241m!=\u001b[39m nargs:\n",
      "\u001b[0;31mRuntimeError\u001b[0m: a is not one of the parameters []"
     ]
    }
   ],
   "source": [
    "m=Minuit(ubll, a=1, b=2)"
   ]
  },
  {
   "cell_type": "code",
   "execution_count": 62,
   "id": "39bf1301",
   "metadata": {},
   "outputs": [
    {
     "name": "stdout",
     "output_type": "stream",
     "text": [
      "Model 1 Results:\n",
      "<ValueView a=1.0975227348822817e+40 b=1.1430922215589642e+40>\n",
      "Model 2 Results:\n",
      "<ValueView c=0.9999999999999999 d=1.0 e=1.0>\n"
     ]
    }
   ],
   "source": [
    "import numpy as np\n",
    "from iminuit import Minuit, describe\n",
    "\n",
    "class NegativeLogLikelihood:\n",
    "    def __init__(self, model, x_data):\n",
    "        \"\"\"\n",
    "        Initialize the NLL class.\n",
    "\n",
    "        Parameters:\n",
    "        - model: The model function to fit.\n",
    "        - x_data: Data points (independent variable).\n",
    "        \"\"\"\n",
    "        self.model = model\n",
    "        self.x_data = x_data\n",
    "        self.param_names = describe(model)[1:]  # Get parameter names dynamically\n",
    "\n",
    "    def __call__(self, *params):\n",
    "        \"\"\"\n",
    "        Compute the Negative Log-Likelihood (NLL).\n",
    "\n",
    "        Parameters:\n",
    "        - params: Model parameters, dynamically matched to parameter names.\n",
    "\n",
    "        Returns:\n",
    "        - Negative log-likelihood value.\n",
    "        \"\"\"\n",
    "        # Map parameter values to their names\n",
    "        param_dict = dict(zip(self.param_names, params))\n",
    "        \n",
    "        # Calculate model predictions\n",
    "        y = self.model(self.x_data, **param_dict)\n",
    "        \n",
    "        # Check for invalid values in the model output\n",
    "        if np.any(y <= 0):\n",
    "            return np.inf  # Return a large value if PDF is invalid\n",
    "        \n",
    "        # Compute the negative log-likelihood\n",
    "        nll = -np.sum(np.log(y))\n",
    "        return nll\n",
    "\n",
    "    @property\n",
    "    def func_code(self):\n",
    "        \"\"\"\n",
    "        Required by Minuit to identify parameter names.\n",
    "        \"\"\"\n",
    "        class FuncCode:\n",
    "            def __init__(self, names):\n",
    "                self.co_varnames = names\n",
    "                self.co_argcount = len(names)\n",
    "\n",
    "        return FuncCode(self.param_names)\n",
    "\n",
    "# Example models\n",
    "def model_func_1(x, a, b):\n",
    "    return a * x + b\n",
    "\n",
    "def model_func_2(x, c, d, e):\n",
    "    return c * x - np.exp(d * x) + e\n",
    "\n",
    "# Data\n",
    "x_data = np.array([0, 1, 2, 3, 4, 5, 6, 7, 9, 10])\n",
    "\n",
    "# Minimize dynamically\n",
    "def minimize_nll(model, x_data, initial_guess, parameter_limits=None):\n",
    "    \"\"\"\n",
    "    Minimize the Negative Log-Likelihood for a given model.\n",
    "\n",
    "    Parameters:\n",
    "    - model: The model function to fit.\n",
    "    - x_data: Data points (independent variable).\n",
    "    - initial_guess: Dictionary of initial guesses for model parameters.\n",
    "    - parameter_limits: Dictionary of parameter limits (optional).\n",
    "\n",
    "    Returns:\n",
    "    - Minuit object after minimization.\n",
    "    \"\"\"\n",
    "    # Initialize the NLL object\n",
    "    nll = NegativeLogLikelihood(model, x_data)\n",
    "\n",
    "    # Create Minuit\n",
    "    m = Minuit(nll, **initial_guess)\n",
    "    m.errordef = Minuit.LIKELIHOOD  # Set error definition for likelihood\n",
    "\n",
    "    # Apply parameter limits if provided\n",
    "    if parameter_limits:\n",
    "        for param, limits in parameter_limits.items():\n",
    "            m.limits[param] = limits\n",
    "\n",
    "    # Minimize\n",
    "    m.migrad()\n",
    "\n",
    "    return m\n",
    "\n",
    "# Example usage with model_func_1\n",
    "initial_guess_1 = {\"a\": 1.0, \"b\": 1.0}\n",
    "parameter_limits_1 = {\"a\": (0, None), \"b\": (-np.inf, np.inf)}\n",
    "m1 = minimize_nll(model_func_1, x_data, initial_guess_1, parameter_limits_1)\n",
    "print(\"Model 1 Results:\")\n",
    "print(m1.values)\n",
    "\n",
    "# Example usage with model_func_2\n",
    "initial_guess_2 = {\"c\": 1.0, \"d\": 1.0, \"e\": 1.0}\n",
    "parameter_limits_2 = {\"c\": (0, None), \"d\": (-np.inf, np.inf), \"e\": (-10, 10)}\n",
    "m2 = minimize_nll(model_func_2, x_data, initial_guess_2, parameter_limits_2)\n",
    "print(\"Model 2 Results:\")\n",
    "print(m2.values)\n"
   ]
  },
  {
   "cell_type": "code",
   "execution_count": null,
   "id": "bfc622a4",
   "metadata": {},
   "outputs": [],
   "source": []
  }
 ],
 "metadata": {
  "kernelspec": {
   "display_name": "Python 3 (ipykernel)",
   "language": "python",
   "name": "python3"
  },
  "language_info": {
   "codemirror_mode": {
    "name": "ipython",
    "version": 3
   },
   "file_extension": ".py",
   "mimetype": "text/x-python",
   "name": "python",
   "nbconvert_exporter": "python",
   "pygments_lexer": "ipython3",
   "version": "3.11.5"
  }
 },
 "nbformat": 4,
 "nbformat_minor": 5
}
