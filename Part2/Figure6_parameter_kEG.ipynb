{
 "cells": [
  {
   "cell_type": "markdown",
   "id": "31d6725f",
   "metadata": {},
   "source": [
    "## Why do parameters only evaluated in the GNE network not influence the robustness?\n",
    "\n",
    "From the PSA of the GNE network, parameters only associated to the GNE network satisfy the robustness condition. A suggestion is that the links related to Esrrb is too strong (small k) or too weak (high k) to drive the Epi and PrE state more than 20% away from their refeernce case.\n",
    "\n",
    "In this notebook, I record cell trajectories that are either primed PrE or Epi cells.\n",
    "I define a primed Epi cell as (Nanog > Gata6) and a primed PrE cell as (Gata6 > Nanog).\n",
    "\n",
    "If the cell end up in PrE/ PrE pm 20% the cell is PrE/ Epi. Else, it is categorized as - unidentified."
   ]
  },
  {
   "cell_type": "code",
   "execution_count": 1,
   "id": "c220651a",
   "metadata": {},
   "outputs": [],
   "source": [
    "import pandas as pd\n",
    "from matplotlib.colors import to_rgba\n",
    "from Module_241021 import *"
   ]
  },
  {
   "cell_type": "code",
   "execution_count": 3,
   "id": "f6ea23c2",
   "metadata": {},
   "outputs": [],
   "source": [
    "# Read PSA data from kEN \n",
    "PSA_GNE_KEG_low = pd.read_csv(\"PSA_data/GNE_KEG_0.5_1127_241021.csv\")\n",
    "PSA_GNE_KEG_mid = pd.read_csv(\"PSA_data/GNE_KEG_1.0_1127_241021.csv\")\n",
    "PSA_GNE_KEG_high = pd.read_csv(\"PSA_data/GNE_KEG_2.0_1127_241021.csv\")"
   ]
  },
  {
   "cell_type": "code",
   "execution_count": 4,
   "id": "07e52b40",
   "metadata": {},
   "outputs": [],
   "source": [
    "# Get (gata6, nanog) coordinates of the reference case.\n",
    "PSA_GN_reference = pd.read_csv(\"PSA_data/GN_KmiNG_1.0_1127_241021.csv\")\n",
    "\n",
    "epi_gata6_ref = PSA_GN_reference[\"mean epi gata6\"].unique()[0]\n",
    "epi_nanog_ref = PSA_GN_reference[\"mean epi nanog\"].unique()[0]\n",
    "pre_gata6_ref = PSA_GN_reference[\"mean pre gata6\"].unique()[0]\n",
    "pre_nanog_ref = PSA_GN_reference[\"mean pre nanog\"].unique()[0]"
   ]
  },
  {
   "cell_type": "code",
   "execution_count": 16,
   "id": "6db147c9",
   "metadata": {},
   "outputs": [],
   "source": [
    "dataframe = PSA_GNE_KEG_low# select dataframe\n",
    "\n",
    "ICs = dataframe[[\"ic gata6\", \"ic nanog\", \"ic esrrb\"]]\n",
    "\n",
    "mask_pre = ICs[\"ic gata6\"] > ICs[\"ic nanog\"]\n",
    "mask_epi = ICs[\"ic gata6\"] < ICs[\"ic nanog\"]\n",
    "\n",
    "primed_pre = dataframe[mask_pre]\n",
    "primed_epi = dataframe[mask_epi]"
   ]
  },
  {
   "cell_type": "code",
   "execution_count": 17,
   "id": "565ac70a",
   "metadata": {},
   "outputs": [
    {
     "data": {
      "image/png": "[encoded data removed]",
      "text/plain": [
       "<Figure size 300x300 with 1 Axes>"
      ]
     },
     "metadata": {},
     "output_type": "display_data"
    }
   ],
   "source": [
    "# count how many primed epi or primed pre cells end up in the epi, the pre, or an undefined state.\n",
    "primed_cell = primed_epi         # edit here\n",
    "title = \"Primed Epi\\ns = 0.5\"    # edit here\n",
    "filename = \"keg_0.5_primed_epi_250129\" # edit here. \"parameter_scalefactor_primedcelltype_date\"\n",
    "savefig = True\n",
    "\n",
    "epi_count = 0\n",
    "pre_count = 0\n",
    "undefined_count = 0\n",
    "\n",
    "for i in range(len(primed_cell)):\n",
    "    \n",
    "    # count epi\n",
    "    if (\n",
    "        (primed_cell[\"ss nanog\"].iloc[i]-epi_nanog_ref)/ epi_nanog_ref < 0.2\\\n",
    "        and\n",
    "        (primed_cell[\"ss gata6\"].iloc[i]-epi_gata6_ref)/ epi_gata6_ref < 0.2\n",
    "       ):\n",
    "        epi_count += 1\n",
    "    \n",
    "    # count pre\n",
    "    elif (\n",
    "        (primed_cell[\"ss nanog\"].iloc[i]-pre_nanog_ref)/ pre_nanog_ref < 0.2\\\n",
    "        and\n",
    "        (primed_cell[\"ss gata6\"].iloc[i]-pre_gata6_ref)/ pre_gata6_ref < 0.2\n",
    "       ):\n",
    "        pre_count += 1\n",
    "    else:\n",
    "        undefined_count += 1\n",
    "        \n",
    "\n",
    "# plot pie chart        \n",
    "labels = (\"Epi\", \"PrE\", \"Undefined\")\n",
    "sizes = (epi_count, pre_count, undefined_count)\n",
    "colours = (\"red\", \"green\", \"orange\")\n",
    "# Adjust colors with transparency using RGBA\n",
    "colours_with_alpha = [to_rgba(color, alpha=0.6) for color in colours]  # Add alpha to each color\n",
    "\n",
    "\n",
    "# Define a function to format and display absolute values\n",
    "def absolute_number_formatter(pct, all_vals):\n",
    "    total = sum(all_vals)\n",
    "    absolute = int(round(pct * total / 100.0))\n",
    "    return f\"{absolute}\"\n",
    "\n",
    "# plot\n",
    "fig, ax = plt.subplots(figsize=(3,3))\n",
    "\n",
    "wedges, text, autotext = ax.pie(sizes,\n",
    "                                colors=colours_with_alpha,\n",
    "                                autopct=lambda pct: absolute_number_formatter(pct, sizes),\n",
    "                               )\n",
    "ax.set_title(f\"{title}\")\n",
    "ax.legend(wedges, labels,\n",
    "          title=\"Cell Types\",\n",
    "          loc=\"center left\",\n",
    "          bbox_to_anchor=(1, 0, 0.5, 1))\n",
    "\n",
    "plt.tight_layout()\n",
    "if savefig:\n",
    "    plt.savefig(f\"{filename}.pdf\", dpi=600)"
   ]
  },
  {
   "cell_type": "code",
   "execution_count": null,
   "id": "b356d5a6",
   "metadata": {},
   "outputs": [],
   "source": []
  }
 ],
 "metadata": {
  "kernelspec": {
   "display_name": "Python 3 (ipykernel)",
   "language": "python",
   "name": "python3"
  },
  "language_info": {
   "codemirror_mode": {
    "name": "ipython",
    "version": 3
   },
   "file_extension": ".py",
   "mimetype": "text/x-python",
   "name": "python",
   "nbconvert_exporter": "python",
   "pygments_lexer": "ipython3",
   "version": "3.11.5"
  }
 },
 "nbformat": 4,
 "nbformat_minor": 5
}
