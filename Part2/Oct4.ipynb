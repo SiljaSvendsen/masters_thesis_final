{
 "cells": [
  {
   "cell_type": "code",
   "execution_count": 1,
   "id": "aa25be91",
   "metadata": {},
   "outputs": [],
   "source": [
    "from Module_241021 import (equations_NGEO_and_F, # GNEO 1\n",
    "                           equations_NGEOF_and_maOE, # GNEO 2\n",
    "                           par0909,\n",
    "                           generate_ic_to_scan_deterministic_triangle,\n",
    "                           \n",
    "                          )"
   ]
  },
  {
   "cell_type": "code",
   "execution_count": 2,
   "id": "aea92a18",
   "metadata": {},
   "outputs": [],
   "source": [
    "import matplotlib.pyplot as plt\n",
    "import numpy as np\n",
    "import sys\n",
    "import os\n",
    "import pandas as pd\n",
    "import scipy as sb\n",
    "from scipy.integrate import solve_ivp"
   ]
  },
  {
   "cell_type": "code",
   "execution_count": 33,
   "id": "2076a4ff",
   "metadata": {},
   "outputs": [],
   "source": [
    "run=False"
   ]
  },
  {
   "cell_type": "code",
   "execution_count": 34,
   "id": "5d77edef",
   "metadata": {},
   "outputs": [],
   "source": [
    "if run:\n",
    "    ICs = generate_ic_to_scan_deterministic_triangle(p=par0909,\n",
    "                                                 ic_range=[0.1, 5.0],\n",
    "                                                 N_points_1D=36,#36\n",
    "                                                 base=2,\n",
    "                                                 dim=4\n",
    "                                                )\n",
    "    tmax=100\n",
    "    par = par0909\n",
    "    oct4=[]\n",
    "    date=\"201124\"\n",
    "\n",
    "    for ic in ICs:\n",
    "        sol=solve_ivp(equations_NGEO_and_F, (0,tmax), ic, args=[par])\n",
    "        #print(ic)\n",
    "        oct4=sol.y[3]\n",
    "        time=sol.t\n",
    "        \n",
    "        data={\n",
    "            \"ic gata6\": ic[0],\n",
    "            \"ic nanog\": ic[1],\n",
    "            \"ic esrrb\": ic[2],\n",
    "            \"ic oct4\": ic[3],\n",
    "            \"oct4\":oct4,\n",
    "            \"time\":time\n",
    "        }\n",
    "        #print(oct4)\n",
    "        \n",
    "        dataframe = pd.DataFrame(data)\n",
    "        dataframe.to_csv(f\"oct4_{date}.csv\",\n",
    "                                 mode=\"a\", index=False)\n",
    "    \n",
    "    "
   ]
  },
  {
   "cell_type": "code",
   "execution_count": 39,
   "id": "35047eaa",
   "metadata": {},
   "outputs": [],
   "source": [
    "oct4data=pd.read_csv(\"oct4_201124.csv\")"
   ]
  },
  {
   "cell_type": "code",
   "execution_count": 41,
   "id": "ddf0b3ad",
   "metadata": {},
   "outputs": [
    {
     "data": {
      "text/plain": [
       "0                         0.0\n",
       "1        0.010712385690020506\n",
       "2         0.11783624259022556\n",
       "3         0.27922792493751236\n",
       "4           0.620364305464513\n",
       "                 ...         \n",
       "52314       91.07548137079644\n",
       "52315        94.3394170972728\n",
       "52316       97.12592485087407\n",
       "52317       99.91243260447534\n",
       "52318                   100.0\n",
       "Name: time, Length: 52319, dtype: object"
      ]
     },
     "execution_count": 41,
     "metadata": {},
     "output_type": "execute_result"
    }
   ],
   "source": [
    "oct4data[\"time\"]"
   ]
  },
  {
   "cell_type": "code",
   "execution_count": null,
   "id": "c661b025",
   "metadata": {},
   "outputs": [],
   "source": []
  }
 ],
 "metadata": {
  "kernelspec": {
   "display_name": "Python 3 (ipykernel)",
   "language": "python",
   "name": "python3"
  },
  "language_info": {
   "codemirror_mode": {
    "name": "ipython",
    "version": 3
   },
   "file_extension": ".py",
   "mimetype": "text/x-python",
   "name": "python",
   "nbconvert_exporter": "python",
   "pygments_lexer": "ipython3",
   "version": "3.11.5"
  }
 },
 "nbformat": 4,
 "nbformat_minor": 5
}
