{
 "cells": [
  {
   "cell_type": "markdown",
   "id": "f812b94e",
   "metadata": {},
   "source": [
    "### Statistical tests\n",
    "**Notebook description/ method ** <br>\n",
    "\n",
    "Previously, I have calculated the delay time differences between the GNE, GNEO1, and GNEO2 networks and the GN reference network, $\\Delta\\tau_{i -GN}$, where $i \\in \\{GNE, GNEO1, GNEO2\\}$.\n",
    "\n",
    "In this notebook, I perform statistical analysis on the $\\Delta\\tau_{i -GN}$ data.\n",
    "For each condition (parameter, rel change), I compare the delay time difference.\n",
    "\n",
    "First, I check if the distrition of delay time differences is a normal distribution.\n",
    "Besides a plotting the distribution (graphical method), I perform a Shapiro-Wilk test, to acces whether the delay time differences are normally distributioned or not. The null hypothesis is: \"The distribution of delay time diffrences follow a normal distribution.\" The choice if significance level $\\alpha=0.05$ (common practice.)\n",
    "\n",
    "If the normality assumption is valid, I perform a one-sided t-test with the null hypothesis: \"The delay time differences between network i+1 is the same or smaller than the delay time differnces between network i.\" For example, if i = GNE, i+1 = GNEO1.\n",
    "\n",
    "If the distributions of the delay time diffrences do not follow a normal distribution, I perform a one-sided Mann-Whitney U-test. The null hypothesis is the same: \"The delay time differences between network i+1 is the same or smaller than the delay time differnces between network i.\"\n",
    "\n",
    "In both cases, I use signicance level $\\alpha=0.05$ (\\*, reasonable confidence),$\\alpha=0.01$,(\\*\\*)$\\alpha=0.001$ (\\*\\*\\*, high-confidence results) to test the strength of evidence. [note to self: i will only indicate the aesterics if the null hypothesis is rejected.]\n",
    "**Result** <br>\n",
    "\n",
    "Example of result (update when the analysis is done. this is just to rememeber what i am interested in): None of the distributions follow a normal distribution.\n"
   ]
  },
  {
   "cell_type": "code",
   "execution_count": 1,
   "id": "0ead3f7b",
   "metadata": {},
   "outputs": [],
   "source": [
    "import pandas as pd # to read single csv files"
   ]
  },
  {
   "cell_type": "code",
   "execution_count": 2,
   "id": "b949b4a5",
   "metadata": {},
   "outputs": [],
   "source": [
    "from Module_241021 import (load_data_w_glob,\n",
    "                           shapiro_wilk_test_and_plots,\n",
    "                           MW_test,\n",
    "                           wilcoxon_test_GNE_timedata\n",
    "                          )"
   ]
  },
  {
   "cell_type": "code",
   "execution_count": 3,
   "id": "989fb4f5",
   "metadata": {},
   "outputs": [],
   "source": [
    "perform_shapiro_wilk_test = False\n",
    "perform_mannwhitney_u_test = False"
   ]
  },
  {
   "cell_type": "markdown",
   "id": "b96fcb89",
   "metadata": {},
   "source": [
    "## Do the distributions of the delay time differences follow a normal distribution?\n",
    "#### perform a formal normality test (Shapiro-Wilk test)\n",
    "H0: The sample is normally distributed\n",
    "\n",
    "choice of significance level: $\\sigma$=0.05 (widely accepted in practice)\n",
    "\n",
    "Note on interpretation of the p-value:\n",
    "If p-value > 0.05, the SW-test does not reject the null hypothesis, and the data is consistent with being normally distributed.\n",
    "\n",
    "If p-value < 0.05, the SW-test does reject the null hypothesis, suggesting the data is not normally distributed."
   ]
  },
  {
   "cell_type": "markdown",
   "id": "ecf8c111",
   "metadata": {},
   "source": [
    "## Test for normality"
   ]
  },
  {
   "cell_type": "code",
   "execution_count": 4,
   "id": "125acdb4",
   "metadata": {},
   "outputs": [],
   "source": [
    "# load time diff data\n",
    "diff_tau_all = pd.read_csv(\"time_delay_diff_241021.csv\")\n",
    "\n",
    "# load + pickout velocity data\n",
    "PSA_all_df = load_data_w_glob(directory_path=\"PSA_data\", file_pattern=\"*241021.csv\")\n",
    "velocity_all = PSA_all_df[[\"network\", \"parameter\", \"rel change\", \"condition 1\", \"condition 2\", \"velocity\"]]"
   ]
  },
  {
   "cell_type": "code",
   "execution_count": 5,
   "id": "a198ecd6",
   "metadata": {},
   "outputs": [],
   "source": [
    "if perform_shapiro_wilk_test:\n",
    "    \n",
    "    # delay time difference, normal test\n",
    "    shapiro_wilk_test_and_plots(dataframe=diff_tau_all, network=\"two_networks\", datatype=\"time_diff\",\n",
    "                             date=\"241021\", verbose=True, savefig=True\n",
    "                            )\n",
    "    \n",
    "    # velocity data, normal test\n",
    "    shapiro_wilk_test_and_plots(dataframe=velocity_all, network=\"network\", datatype=\"velocity\",\n",
    "                             date=\"241021\", verbose=True, savefig=True\n",
    "                            )"
   ]
  },
  {
   "cell_type": "markdown",
   "id": "f5d8bc56",
   "metadata": {},
   "source": [
    "## Review normality test results"
   ]
  },
  {
   "cell_type": "code",
   "execution_count": 6,
   "id": "efd5fa3f",
   "metadata": {},
   "outputs": [
    {
     "name": "stdout",
     "output_type": "stream",
     "text": [
      "delay time diff:\n",
      "    networks parameter  rel change   p_value  significance level  reject  \\\n",
      "10   GNEvGN   alphaEO         0.2  0.064536                0.05   False   \n",
      "66   GNEvGN       KEG         2.0  0.200544                0.05   False   \n",
      "\n",
      "    condition 1  condition 2  \n",
      "10         True         True  \n",
      "66         True         True  \n",
      "velocity:\n",
      " Empty DataFrame\n",
      "Columns: [networks, parameter, rel change, p_value, significance level, reject, condition 1, condition 2]\n",
      "Index: []\n",
      "100\n",
      "400\n"
     ]
    }
   ],
   "source": [
    "SW_results_delay_time_diff = pd.read_csv(\"distribution stats/shapiro_test_results_time_diff_241021.csv\")\n",
    "SW_results_velocity = pd.read_csv(\"distribution stats/shapiro_test_results_velocity_241021.csv\")\n",
    "\n",
    "# cases of where H0 is not rejected (normality)\n",
    "print(\"delay time diff:\\n\",SW_results_delay_time_diff[SW_results_delay_time_diff[\"reject\"]==False])\n",
    "print(\"velocity:\\n\",SW_results_velocity[SW_results_velocity[\"reject\"]==False])\n",
    "\n",
    "\n",
    "\n",
    "print(len(SW_results_delay_time_diff[SW_results_delay_time_diff[\"networks\"]==\"GNEvGN\"]))\n",
    "print(len(SW_results_velocity))"
   ]
  },
  {
   "cell_type": "markdown",
   "id": "d87b4126",
   "metadata": {},
   "source": [
    "I perform a Mann-Whitney U test since only 2 out of 300 cases (delay time diff) are normally distributed/ H0 is not rejected."
   ]
  },
  {
   "cell_type": "markdown",
   "id": "ebb6b1ba",
   "metadata": {},
   "source": [
    "### Perform a one sided Mann-Whitney U test\n",
    "**Delay Time Diff** <br> I test the following\n",
    "- Case A with $H_0$: The $\\Delta\\tau_{GNEO2-GN}$ are the equal to or smaller than the $\\Delta\\tau_{GNE-GN}$\n",
    "- Case B with $H_0$: The $\\Delta\\tau_{GNEO1-GN}$ are the equal to or smaller than the $\\Delta\\tau_{GNE-GN}$\n",
    "- Case C with $H_0$: The $\\Delta\\tau_{GNEO2-GN}$ are the equal to or smaller than the $\\Delta\\tau_{GNEO1-GN}$"
   ]
  },
  {
   "cell_type": "code",
   "execution_count": 7,
   "id": "097f9130",
   "metadata": {},
   "outputs": [],
   "source": [
    "run_test=False\n",
    "if perform_mannwhitney_u_test:\n",
    "    # prepare data\n",
    "    mask0 = diff_tau_all[\"condition 1\"]==True # bi-stable\n",
    "    mask1 = diff_tau_all[\"condition 2\"]==True # ref sfp\n",
    "\n",
    "    GNEvGN_time_df = diff_tau_all[(mask0)&(mask1)&(diff_tau_all[\"two_networks\"]==\"GNEvGN\")]\n",
    "    GNEO1vGN_time_df = diff_tau_all[(mask0)&(mask1)&(diff_tau_all[\"two_networks\"]==\"GNEO1vGN\")]\n",
    "    GNEO2vGN_time_df = diff_tau_all[(mask0)&(mask1)&(diff_tau_all[\"two_networks\"]==\"GNEO2vGN\")]\n",
    "\n",
    "    # ensure that the length of the dataframes are the same\n",
    "    print(len(GNEvGN_time_df), len(GNEO1vGN_time_df), len(GNEO2vGN_time_df))\n",
    "    \n",
    "    if run_test: # extra safety belt!!\n",
    "        # Case A\n",
    "        MW_test(df_compare=GNEO2vGN_time_df, df_ref=GNEvGN_time_df,\n",
    "                datatype=\"time diff\", date=\"241021\", alternative=\"greater\")\n",
    "\n",
    "        # Case B\n",
    "        MW_test(df_compare=GNEO1vGN_time_df, df_ref=GNEvGN_time_df,\n",
    "                datatype=\"time diff\", date=\"241021\", alternative=\"greater\")\n",
    "\n",
    "        # Case C\n",
    "        MW_test(df_compare=GNEO2vGN_time_df, df_ref=GNEO1vGN_time_df,\n",
    "                datatype=\"time diff\", date=\"241021\", alternative=\"greater\")"
   ]
  },
  {
   "cell_type": "markdown",
   "id": "6df1f899",
   "metadata": {},
   "source": [
    "**Velocity Data** <br>\n",
    "My question: Does adding a pluripotency marker (Esrrb or Oct4) slow down the cell specification? For example, are the velocities of the GNE network *smaller* than the velocities of the GN network?\n",
    "\n",
    "To answer my question, I perform a Mann-Whitney U test with null hypothesis stated in case D.\n",
    "I test the following\n",
    "- Case D with $H_0$: The velocities from the GNE network are equal to or larger than the velocities from the GN network.\n",
    "- Case E with $H_0$: The velocities from the GNEO1 network are equal to or larger than the velocities from the GNE network.\n",
    "- Case F with $H_0$: The velocities from the GNEO2 network are equal to or larger than the velocities from the GNEO1 network.\n",
    "- Case G with $H_0$: The velocities from the GNEO1 network are equal to or larger than the velocities from the GN network.\n",
    "- Case H with $H_0$: The velocities from the GNEO2 network are equal to or larger than the velocities from the GNE network.\n",
    "- Case I with $H_0$: The velocities from the GNEO2 network are equal to or larger than the velocities from the GN network.\n",
    "\n",
    "Remember to set alternative=\"less\" in scipy stats mann-whitney u test.\n",
    "df_compare is the network with an additional pluripotency marker. df_ref is the network without."
   ]
  },
  {
   "cell_type": "code",
   "execution_count": 8,
   "id": "d0eb805b",
   "metadata": {},
   "outputs": [],
   "source": [
    "run_test=False\n",
    "if perform_mannwhitney_u_test:\n",
    "    \n",
    "    # prepare the data\n",
    "    # edit 25.10.2024 include all data regardless of robustness test.\n",
    "    #mask0 = velocity_all[\"condition 1\"]==True\n",
    "    #mask1 = velocity_all[\"condition 2\"]==True\n",
    "    #GN_velocity_df = velocity_all[(mask0)&(mask1)& (velocity_all[\"network\"]==\"GN\")]\n",
    "    #GNE_velocity_df = velocity_all[(mask0)&(mask1)& (velocity_all[\"network\"]==\"GNE\")]\n",
    "    #GNEO1_velocity_df = velocity_all[(mask0)&(mask1)& (velocity_all[\"network\"]==\"GNEO1\")]\n",
    "    #GNEO2_velocity_df = velocity_all[(mask0)&(mask1)& (velocity_all[\"network\"]==\"GNEO2\")]\n",
    "    \n",
    "    GN_velocity_df = velocity_all[velocity_all[\"network\"] == \"GN\"]\n",
    "    GNE_velocity_df = velocity_all[velocity_all[\"network\"] == \"GNE\"]\n",
    "    GNEO1_velocity_df = velocity_all[velocity_all[\"network\"] == \"GNEO1\"]\n",
    "    GNEO2_velocity_df = velocity_all[velocity_all[\"network\"] == \"GNEO2\"]\n",
    "    \n",
    "\n",
    "    # the not empty condition takes care of cases where one of the dataframes do not fulfill condition 1 and 2.\n",
    "    # in that case, for a certain paramter and rel change, that dataframe is empty and the \n",
    "    # function continues to the next. So, it is not a problem if the size of the dataframes are unequal when\n",
    "    # evaluating them in the MW_test function.\n",
    "    print(len(GN_velocity_df), len(GNE_velocity_df),len(GNEO1_velocity_df), len(GNEO2_velocity_df))\n",
    "    \n",
    "    if run_test: # extra safty measure to avoid overwriting files. - change the date (filename)\n",
    "        # Case D\n",
    "        MW_test(df_compare=GNE_velocity_df, df_ref=GN_velocity_df,\n",
    "                datatype=\"velocity\", date=\"241025\", alternative=\"less\")\n",
    "        # Case E\n",
    "        MW_test(df_compare=GNEO1_velocity_df, df_ref=GNE_velocity_df,\n",
    "                datatype=\"velocity\", date=\"241025\", alternative=\"less\")\n",
    "        # Case F\n",
    "        MW_test(df_compare=GNEO2_velocity_df, df_ref=GNEO1_velocity_df,\n",
    "                datatype=\"velocity\", date=\"241025\", alternative=\"less\")\n",
    "        # Case G\n",
    "        MW_test(df_compare=GNEO1_velocity_df, df_ref=GN_velocity_df,\n",
    "                datatype=\"velocity\", date=\"241025\", alternative=\"less\")\n",
    "        # Case H\n",
    "        MW_test(df_compare=GNEO2_velocity_df, df_ref=GNE_velocity_df,\n",
    "                datatype=\"velocity\", date=\"241025\", alternative=\"less\")\n",
    "        # Case I\n",
    "        MW_test(df_compare=GNEO2_velocity_df, df_ref=GN_velocity_df,\n",
    "                datatype=\"velocity\", date=\"241025\", alternative=\"less\")\n",
    "    "
   ]
  },
  {
   "cell_type": "markdown",
   "id": "dba597df",
   "metadata": {},
   "source": [
    "## Question: Are $\\Delta\\tau_{GNE-GN}$ positive?\n",
    "\n",
    "H0: $\\Delta\\tau_{GNE-GN}$ is equal to or smaller than zero. <br>\n",
    "test: Wilcoxon - by eye, the box plots do not show normal distributions. I have also quantified that by running a shapiro-wilk test."
   ]
  },
  {
   "cell_type": "code",
   "execution_count": 9,
   "id": "2aa2bb11",
   "metadata": {},
   "outputs": [
    {
     "name": "stdout",
     "output_type": "stream",
     "text": [
      "Wilcoxon test results are saved in csv file wilcoxon_test_GNEvGN_241021.csv\n"
     ]
    }
   ],
   "source": [
    "# prepare data\n",
    "mask0 = diff_tau_all[\"condition 1\"]==True # bi-stable\n",
    "mask1 = diff_tau_all[\"condition 2\"]==True # ref sfp\n",
    "GNEvGN_time_df = diff_tau_all[(mask0)&(mask1)&(diff_tau_all[\"two_networks\"]==\"GNEvGN\")]\n",
    "\n",
    "# run test\n",
    "wilcoxon_test_GNE_timedata(dataframe=GNEvGN_time_df, date=\"241021\", datatype=\"time diff\")"
   ]
  },
  {
   "cell_type": "markdown",
   "id": "2dc14aa7",
   "metadata": {},
   "source": [
    "## Question: Are $\\Delta\\tau_{GNEO1-GN}$ positive?\n",
    "Added: 23.01.25 <br>\n",
    "H0: $\\Delta\\tau_{GNEO1-GN}$ is equal to or smaller than zero. <br>\n",
    "test: Wilcoxon - by eye, the box plots do not show normal distributions. I have also quantified that by running a shapiro-wilk test."
   ]
  },
  {
   "cell_type": "code",
   "execution_count": 12,
   "id": "881a154c",
   "metadata": {},
   "outputs": [
    {
     "name": "stdout",
     "output_type": "stream",
     "text": [
      "Wilcoxon test results are saved in csv file wilcoxon_test_GNEO1vGN_240123.csv\n"
     ]
    }
   ],
   "source": [
    "# prepare data\n",
    "mask0 = diff_tau_all[\"condition 1\"]==True # bi-stable\n",
    "mask1 = diff_tau_all[\"condition 2\"]==True # ref sfp\n",
    "GNEO1vGN_time_df = diff_tau_all[(mask0)&(mask1)&(diff_tau_all[\"two_networks\"]==\"GNEO1vGN\")]\n",
    "\n",
    "# run test\n",
    "wilcoxon_test_GNE_timedata(dataframe=GNEO1vGN_time_df, date=\"240123\", datatype=\"time diff\")"
   ]
  },
  {
   "cell_type": "markdown",
   "id": "1bad3b51",
   "metadata": {},
   "source": [
    "## Question: Are $\\Delta\\tau_{GNEO2-GN}$ positive?\n",
    "Added: 23.01.25 <br>\n",
    "H0: $\\Delta\\tau_{GNEO2-GN}$ is equal to or smaller than zero. <br>\n",
    "test: Wilcoxon - by eye, the box plots do not show normal distributions. I have also quantified that by running a shapiro-wilk test."
   ]
  },
  {
   "cell_type": "code",
   "execution_count": 13,
   "id": "cdb16998",
   "metadata": {},
   "outputs": [
    {
     "name": "stdout",
     "output_type": "stream",
     "text": [
      "Wilcoxon test results are saved in csv file wilcoxon_test_GNEO2vGN_240123.csv\n"
     ]
    }
   ],
   "source": [
    "# prepare data\n",
    "mask0 = diff_tau_all[\"condition 1\"]==True # bi-stable\n",
    "mask1 = diff_tau_all[\"condition 2\"]==True # ref sfp\n",
    "GNEO2vGN_time_df = diff_tau_all[(mask0)&(mask1)&(diff_tau_all[\"two_networks\"]==\"GNEO2vGN\")]\n",
    "\n",
    "# run test\n",
    "wilcoxon_test_GNE_timedata(dataframe=GNEO2vGN_time_df, date=\"240123\", datatype=\"time diff\")"
   ]
  },
  {
   "cell_type": "markdown",
   "id": "0293bcf1",
   "metadata": {},
   "source": [
    "# View on the Wilcoxon test results"
   ]
  },
  {
   "cell_type": "code",
   "execution_count": 13,
   "id": "736efe8c",
   "metadata": {},
   "outputs": [],
   "source": [
    "Wilcoxon_GNEO1_results= pd.read_csv(\"distribution stats/wilcoxon_test_GNEO1vGN_240123.csv\")\n",
    "Wilcoxon_GNEO2_results= pd.read_csv(\"distribution stats/wilcoxon_test_GNEO2vGN_240123.csv\")\n"
   ]
  },
  {
   "cell_type": "code",
   "execution_count": 14,
   "id": "6943fb12",
   "metadata": {},
   "outputs": [
    {
     "name": "stdout",
     "output_type": "stream",
     "text": [
      "     network parameter  rel change  p value  reject 0.05  reject 0.01  \\\n",
      "18  GNEO1vGN     KaaNG         3.0      1.0        False        False   \n",
      "19  GNEO1vGN     KaaNG         4.0      1.0        False        False   \n",
      "\n",
      "    reject 0.001  \n",
      "18         False  \n",
      "19         False  \n",
      "     network parameter  rel change  p value  reject 0.05  reject 0.01  \\\n",
      "18  GNEO2vGN     KaaNG         3.0      1.0        False        False   \n",
      "19  GNEO2vGN     KaaNG         4.0      1.0        False        False   \n",
      "\n",
      "    reject 0.001  \n",
      "18         False  \n",
      "19         False  \n"
     ]
    }
   ],
   "source": [
    "mask = Wilcoxon_GNEO1_results[\"reject 0.05\"]==False\n",
    "print(Wilcoxon_GNEO1_results[(mask)])\n",
    "\n",
    "mask = Wilcoxon_GNEO2_results[\"reject 0.05\"]==False\n",
    "print(Wilcoxon_GNEO2_results[(mask)])"
   ]
  },
  {
   "cell_type": "code",
   "execution_count": 15,
   "id": "7668c2a1",
   "metadata": {},
   "outputs": [
    {
     "name": "stdout",
     "output_type": "stream",
     "text": [
      "82\n"
     ]
    }
   ],
   "source": [
    "print(len(Wilcoxon_GNEO1_results))\n",
    "print(len(Wilcoxon_GNEO2_results))"
   ]
  },
  {
   "cell_type": "markdown",
   "id": "2106edd6",
   "metadata": {},
   "source": [
    "# Read the MW test results"
   ]
  },
  {
   "cell_type": "code",
   "execution_count": 25,
   "id": "bd9eb87d",
   "metadata": {},
   "outputs": [
    {
     "data": {
      "text/html": [
       "<div>\n",
       "<style scoped>\n",
       "    .dataframe tbody tr th:only-of-type {\n",
       "        vertical-align: middle;\n",
       "    }\n",
       "\n",
       "    .dataframe tbody tr th {\n",
       "        vertical-align: top;\n",
       "    }\n",
       "\n",
       "    .dataframe thead th {\n",
       "        text-align: right;\n",
       "    }\n",
       "</style>\n",
       "<table border=\"1\" class=\"dataframe\">\n",
       "  <thead>\n",
       "    <tr style=\"text-align: right;\">\n",
       "      <th></th>\n",
       "      <th>df compare</th>\n",
       "      <th>df ref</th>\n",
       "      <th>parameter</th>\n",
       "      <th>rel change</th>\n",
       "      <th>p-value</th>\n",
       "      <th>reject 0.05</th>\n",
       "      <th>reject 0.01</th>\n",
       "      <th>reject 0.001</th>\n",
       "    </tr>\n",
       "  </thead>\n",
       "  <tbody>\n",
       "    <tr>\n",
       "      <th>1</th>\n",
       "      <td>GNEO2</td>\n",
       "      <td>GNEO1</td>\n",
       "      <td>KmiNG</td>\n",
       "      <td>3.0</td>\n",
       "      <td>4.737776e-02</td>\n",
       "      <td>True</td>\n",
       "      <td>False</td>\n",
       "      <td>False</td>\n",
       "    </tr>\n",
       "    <tr>\n",
       "      <th>4</th>\n",
       "      <td>GNEO2</td>\n",
       "      <td>GNEO1</td>\n",
       "      <td>KmiNG</td>\n",
       "      <td>4.0</td>\n",
       "      <td>2.174782e-04</td>\n",
       "      <td>True</td>\n",
       "      <td>True</td>\n",
       "      <td>True</td>\n",
       "    </tr>\n",
       "    <tr>\n",
       "      <th>8</th>\n",
       "      <td>GNEO2</td>\n",
       "      <td>GNEO1</td>\n",
       "      <td>KmiNG</td>\n",
       "      <td>5.0</td>\n",
       "      <td>3.392754e-03</td>\n",
       "      <td>True</td>\n",
       "      <td>True</td>\n",
       "      <td>False</td>\n",
       "    </tr>\n",
       "    <tr>\n",
       "      <th>61</th>\n",
       "      <td>GNEO2</td>\n",
       "      <td>GNEO1</td>\n",
       "      <td>KmiEN</td>\n",
       "      <td>3.0</td>\n",
       "      <td>2.067248e-06</td>\n",
       "      <td>True</td>\n",
       "      <td>True</td>\n",
       "      <td>True</td>\n",
       "    </tr>\n",
       "    <tr>\n",
       "      <th>62</th>\n",
       "      <td>GNEO2</td>\n",
       "      <td>GNEO1</td>\n",
       "      <td>KmiEN</td>\n",
       "      <td>2.0</td>\n",
       "      <td>3.314163e-04</td>\n",
       "      <td>True</td>\n",
       "      <td>True</td>\n",
       "      <td>True</td>\n",
       "    </tr>\n",
       "    <tr>\n",
       "      <th>64</th>\n",
       "      <td>GNEO2</td>\n",
       "      <td>GNEO1</td>\n",
       "      <td>KmiEN</td>\n",
       "      <td>4.0</td>\n",
       "      <td>2.249165e-05</td>\n",
       "      <td>True</td>\n",
       "      <td>True</td>\n",
       "      <td>True</td>\n",
       "    </tr>\n",
       "    <tr>\n",
       "      <th>68</th>\n",
       "      <td>GNEO2</td>\n",
       "      <td>GNEO1</td>\n",
       "      <td>KmiEN</td>\n",
       "      <td>5.0</td>\n",
       "      <td>2.102594e-03</td>\n",
       "      <td>True</td>\n",
       "      <td>True</td>\n",
       "      <td>False</td>\n",
       "    </tr>\n",
       "    <tr>\n",
       "      <th>71</th>\n",
       "      <td>GNEO2</td>\n",
       "      <td>GNEO1</td>\n",
       "      <td>KmaON</td>\n",
       "      <td>3.0</td>\n",
       "      <td>8.989814e-08</td>\n",
       "      <td>True</td>\n",
       "      <td>True</td>\n",
       "      <td>True</td>\n",
       "    </tr>\n",
       "    <tr>\n",
       "      <th>72</th>\n",
       "      <td>GNEO2</td>\n",
       "      <td>GNEO1</td>\n",
       "      <td>KmaON</td>\n",
       "      <td>2.0</td>\n",
       "      <td>1.308117e-04</td>\n",
       "      <td>True</td>\n",
       "      <td>True</td>\n",
       "      <td>True</td>\n",
       "    </tr>\n",
       "    <tr>\n",
       "      <th>74</th>\n",
       "      <td>GNEO2</td>\n",
       "      <td>GNEO1</td>\n",
       "      <td>KmaON</td>\n",
       "      <td>4.0</td>\n",
       "      <td>1.259306e-07</td>\n",
       "      <td>True</td>\n",
       "      <td>True</td>\n",
       "      <td>True</td>\n",
       "    </tr>\n",
       "    <tr>\n",
       "      <th>78</th>\n",
       "      <td>GNEO2</td>\n",
       "      <td>GNEO1</td>\n",
       "      <td>KmaON</td>\n",
       "      <td>5.0</td>\n",
       "      <td>5.000815e-05</td>\n",
       "      <td>True</td>\n",
       "      <td>True</td>\n",
       "      <td>True</td>\n",
       "    </tr>\n",
       "    <tr>\n",
       "      <th>91</th>\n",
       "      <td>GNEO2</td>\n",
       "      <td>GNEO1</td>\n",
       "      <td>alphaGN</td>\n",
       "      <td>3.0</td>\n",
       "      <td>5.781454e-09</td>\n",
       "      <td>True</td>\n",
       "      <td>True</td>\n",
       "      <td>True</td>\n",
       "    </tr>\n",
       "    <tr>\n",
       "      <th>92</th>\n",
       "      <td>GNEO2</td>\n",
       "      <td>GNEO1</td>\n",
       "      <td>alphaGN</td>\n",
       "      <td>2.0</td>\n",
       "      <td>2.110245e-02</td>\n",
       "      <td>True</td>\n",
       "      <td>False</td>\n",
       "      <td>False</td>\n",
       "    </tr>\n",
       "    <tr>\n",
       "      <th>94</th>\n",
       "      <td>GNEO2</td>\n",
       "      <td>GNEO1</td>\n",
       "      <td>alphaGN</td>\n",
       "      <td>4.0</td>\n",
       "      <td>1.017372e-08</td>\n",
       "      <td>True</td>\n",
       "      <td>True</td>\n",
       "      <td>True</td>\n",
       "    </tr>\n",
       "    <tr>\n",
       "      <th>98</th>\n",
       "      <td>GNEO2</td>\n",
       "      <td>GNEO1</td>\n",
       "      <td>alphaGN</td>\n",
       "      <td>5.0</td>\n",
       "      <td>1.718940e-06</td>\n",
       "      <td>True</td>\n",
       "      <td>True</td>\n",
       "      <td>True</td>\n",
       "    </tr>\n",
       "  </tbody>\n",
       "</table>\n",
       "</div>"
      ],
      "text/plain": [
       "   df compare df ref parameter  rel change       p-value  reject 0.05  \\\n",
       "1       GNEO2  GNEO1     KmiNG         3.0  4.737776e-02         True   \n",
       "4       GNEO2  GNEO1     KmiNG         4.0  2.174782e-04         True   \n",
       "8       GNEO2  GNEO1     KmiNG         5.0  3.392754e-03         True   \n",
       "61      GNEO2  GNEO1     KmiEN         3.0  2.067248e-06         True   \n",
       "62      GNEO2  GNEO1     KmiEN         2.0  3.314163e-04         True   \n",
       "64      GNEO2  GNEO1     KmiEN         4.0  2.249165e-05         True   \n",
       "68      GNEO2  GNEO1     KmiEN         5.0  2.102594e-03         True   \n",
       "71      GNEO2  GNEO1     KmaON         3.0  8.989814e-08         True   \n",
       "72      GNEO2  GNEO1     KmaON         2.0  1.308117e-04         True   \n",
       "74      GNEO2  GNEO1     KmaON         4.0  1.259306e-07         True   \n",
       "78      GNEO2  GNEO1     KmaON         5.0  5.000815e-05         True   \n",
       "91      GNEO2  GNEO1   alphaGN         3.0  5.781454e-09         True   \n",
       "92      GNEO2  GNEO1   alphaGN         2.0  2.110245e-02         True   \n",
       "94      GNEO2  GNEO1   alphaGN         4.0  1.017372e-08         True   \n",
       "98      GNEO2  GNEO1   alphaGN         5.0  1.718940e-06         True   \n",
       "\n",
       "    reject 0.01  reject 0.001  \n",
       "1         False         False  \n",
       "4          True          True  \n",
       "8          True         False  \n",
       "61         True          True  \n",
       "62         True          True  \n",
       "64         True          True  \n",
       "68         True         False  \n",
       "71         True          True  \n",
       "72         True          True  \n",
       "74         True          True  \n",
       "78         True          True  \n",
       "91         True          True  \n",
       "92        False         False  \n",
       "94         True          True  \n",
       "98         True          True  "
      ]
     },
     "execution_count": 25,
     "metadata": {},
     "output_type": "execute_result"
    }
   ],
   "source": [
    "MW__results = pd.read_csv(\"distribution stats/MW_results_velocity_GNEO2_GNEO1_241025.csv\")\n",
    "\n",
    "MW__results[(MW__results[\"reject 0.05\"]==True)]"
   ]
  },
  {
   "cell_type": "code",
   "execution_count": 24,
   "id": "5b38210f",
   "metadata": {},
   "outputs": [
    {
     "data": {
      "text/plain": [
       "7"
      ]
     },
     "execution_count": 24,
     "metadata": {},
     "output_type": "execute_result"
    }
   ],
   "source": [
    "len(MW__results[(MW__results[\"reject 0.005\"]==True)])-4-3 # minus 7 because both robustness conditions needs\n",
    "# to be satisfied. This is not the case for alphaGN or kmiNG when scaled by these factors ^."
   ]
  },
  {
   "cell_type": "code",
   "execution_count": null,
   "id": "b413cd63",
   "metadata": {},
   "outputs": [],
   "source": []
  }
 ],
 "metadata": {
  "kernelspec": {
   "display_name": "Python 3 (ipykernel)",
   "language": "python",
   "name": "python3"
  },
  "language_info": {
   "codemirror_mode": {
    "name": "ipython",
    "version": 3
   },
   "file_extension": ".py",
   "mimetype": "text/x-python",
   "name": "python",
   "nbconvert_exporter": "python",
   "pygments_lexer": "ipython3",
   "version": "3.11.5"
  }
 },
 "nbformat": 4,
 "nbformat_minor": 5
}
