{
 "cells": [
  {
   "cell_type": "markdown",
   "id": "f8c122ca",
   "metadata": {},
   "source": [
    "Name: Silja Svendsen <br>\n",
    "Date: 17.12.24\n",
    "#### Notebook description:\n",
    "In this Notebook, I characterise the distributions which exhibit negative delay time differences. This involves the distributions for $k_{NN}=k_{GG}$ is multiplied by a scaling factor $s = 1, 2, 3$ and $4$. For $s=1$, $\\Delta\\tau > 0$ (reference parameter set).<br>\n",
    "\n",
    "First, I investigate whether the distributions are uni- or bimodal. From observations, as $s$ increases, the distribution transitions to a bimodal structure and the extrema of delay time differences shift towards greater negative values.\n",
    "\n",
    "**AIC and AICc** <br>\n",
    "Specifically, I calculate the Akaike Information Criterion (AIC) between a Gaussian and a Double Gaussian fit model to assess the modality of the distributions. (In combination with the weight factor, w,) AIC ranks the alternative models to the preferred one which has the smallest AIC.\n",
    "\n",
    "$$AIC = -2ln(L) + 2k,$$\n",
    "\n",
    "where ln(L) is the maximal log-likelihood and $k$ is the number of fit parameters. The first term is linked to the estimation of the expected Kullback-Leiber Information (K-L). K-L measures the information lost when a model, $g$, is used to approximate the full reality,$f$,. (K-L is pictured as the distance between the model and the full reality, whereas AIC is the distance between alternative models to the preferred one.[Anderson 2009]) Akaike found that given data, an estimation of the expected K-L information can be expressed as the maximal log-likelihood: \n",
    "\n",
    "$$ln(L(\\hat{\\theta})) = \\sum_i^N ln(L(\\hat{\\theta}|x_i,g_i)),$$\n",
    "\n",
    "which estimates the unknown parameters, $\\hat{\\theta}$, that are the most likely given the data, $x_i$, and model, $g_i$. <br>\n",
    "\n",
    "For a Gaussian distribution $ln(L) = ...$. In practice, $ln(L(\\hat{\\theta}))$ is determined by minimising the negative maximal loglikelihood using iminuit. <br> \n",
    "Clearly, the first term in eq. ?? can be made smaller by adding more parameters to the model. However, the need of estimating more parameters adds to the uncertainty of the estimated expected K-L information. The second term of the AIC adresses added model complexity by $+2k$.\n",
    "\n",
    "For small sample sizes ($n < 1000$), one uses the bias-corrected AIC:\n",
    "\n",
    "$$AICc = AIC + \\frac{2k(k+1)}{n-k-1}$$\n",
    "\n",
    "To better interpret the model ranking, the model probabilities is calculated:\n",
    "$$w_i = \\frac{\\exp{-0.5*\\Delta_i}}{\\sum_{i=1}^n \\exp{-0.5*\\Delta_i}}$$\n",
    "where $\\Delta_i = AICc_i - AICc_{min}$.\n",
    "\n",
    "\n",
    "**chi2-fits** <br>\n",
    "To tell the significance of a model, a goodness of fit test is perfomred. This is done with a chi2 minimisation using iminuit. From the Shapiro-Wilk's test, none of the distributions are normal. Hence, a skewed Gaussian and a skewed double Gaussian are introduced as well. \n",
    "\n",
    "\n",
    "\n",
    "---- show results----\n",
    "\n",
    "\n",
    "**describe results**"
   ]
  },
  {
   "cell_type": "code",
   "execution_count": 38,
   "id": "c7295eec",
   "metadata": {},
   "outputs": [],
   "source": [
    "import numpy as np                # pi, \n",
    "from iminuit import Minuit          # run minimization\n",
    "from iminuit.util import make_func_code\n",
    "from iminuit import describe      # Minuit\n",
    "import matplotlib.pyplot as plt   # plotting data\n",
    "import pandas as pd               # for importing csv files\n",
    "from scipy.stats import norm      # pdf and cdf of gaussian\n",
    "from scipy import stats          # compute p-values from chi2 and Ndof"
   ]
  },
  {
   "cell_type": "code",
   "execution_count": 2,
   "id": "ddc4d904",
   "metadata": {},
   "outputs": [],
   "source": [
    "time_df=pd.read_csv(\"time_delay_diff_241021.csv\")"
   ]
  },
  {
   "cell_type": "code",
   "execution_count": 22,
   "id": "30556b40",
   "metadata": {},
   "outputs": [],
   "source": [
    "# functions - remove this cell to a seprate py file\n",
    "def select_prepare_sample(df, scalefactor, minx=None, maxx=None, network=\"GNEvGN\", parameter=\"KaaNG\"):\n",
    "    \"\"\"\n",
    "    Input:\n",
    "    -------\n",
    "    df         : pandas dataframe\n",
    "    scalefactor: float, s= 0.2, 0.25, 0.5, 1.0, 2.0, 3.0, 4.0, 5.0\n",
    "    minx and maxx are global max and min from delay time data using parameter KaaNG, s=[1;4].\n",
    "    Returns:\n",
    "    --------\n",
    "    delay time differences,\n",
    "    bincenters,\n",
    "    counts (normalised),\n",
    "    uncertainty of counts\n",
    "    binwidth (float)\n",
    "    \n",
    "    \"\"\"\n",
    "    \n",
    "    # select data\n",
    "    mask0 = df[\"two_networks\"]== network\n",
    "    mask1 = df[\"parameter\"]==parameter\n",
    "    mask2 = df[\"rel change\"]==scalefactor\n",
    "\n",
    "    tsample = df[mask0&mask1&mask2][\"time diff\"]\n",
    "    \n",
    "    if minx==None and maxx==None:\n",
    "        minx=min(tsample)\n",
    "        maxx=max(tsample)\n",
    "    \n",
    "    # binning the data\n",
    "    Nbins = int(np.sqrt(len(tsample))) # 66    \n",
    "    binwidth = (maxx-minx)/float(Nbins)  # fixed binwidth\n",
    "    binning = np.linspace(minx, maxx, Nbins)\n",
    "    counts, bin_edges = np.histogram(tsample, bins=binning)\n",
    "    unc_counts = np.sqrt(counts)\n",
    "    \n",
    "    # normalise\n",
    "    counts_norm = counts/(len(tsample)*binwidth)\n",
    "    unc_counts_norm = unc_counts/(len(tsample)*binwidth)\n",
    "    bin_centers= bin_edges[:-1]+(bin_edges[1]-bin_edges[0])/2\n",
    "    \n",
    "    # only populated bins are considered in fits\n",
    "    select=counts>0\n",
    "    X = bin_centers[select]\n",
    "    Y = counts_norm[select]\n",
    "    dY = unc_counts_norm[select]\n",
    "    \n",
    "    return tsample, X, Y, dY, binwidth\n",
    "\n",
    "def plot_distributions(X, Y, dY, scalefactor, binwidth,title_axis_fz=30, label_fz=20, minx=None, maxx=None,\n",
    "                       datacolor=\"blue\"):\n",
    "    \n",
    "    if minx==None and maxx==None:\n",
    "        minx=min(X)\n",
    "        maxx=max(X)\n",
    "    \n",
    "    # initiate figure\n",
    "    fig, ax = plt.subplots(figsize=(8,6))\n",
    "    \n",
    "    # plot data\n",
    "    ax.errorbar(X, Y, yerr=dY,\n",
    "                marker=\".\", drawstyle=\"steps-mid\",color=datacolor,\n",
    "                label=r\"$N = $\"+f\"{len(X)}\"\n",
    "               )\n",
    "    \n",
    "    # titles, axis labels, etc.\n",
    "    ax.set_title(f\"Scale Factor = {scalefactor}\", fontsize=title_axis_fz)\n",
    "    ax.set_xlabel(r\"$\\Delta\\tau_{GNE-GN}$\", fontsize=title_axis_fz)\n",
    "    ax.set_ylabel(f\"Density/{np.around(binwidth,2)}\", fontsize=title_axis_fz)\n",
    "    ax.tick_params(axis='both', which='major', labelsize=label_fz)\n",
    "    ax.set_xlim(minx-0.5, maxx+0.5)\n",
    "    ax.set_ylim(0,0.5)\n",
    "    plt.legend(fontsize=label_fz)\n",
    "    plt.tight_layout()"
   ]
  },
  {
   "cell_type": "code",
   "execution_count": null,
   "id": "2d9a4dfb",
   "metadata": {},
   "outputs": [],
   "source": []
  },
  {
   "cell_type": "code",
   "execution_count": 27,
   "id": "9ac5bd2f",
   "metadata": {},
   "outputs": [],
   "source": [
    "def set_var_if_None(var, x):\n",
    "    '''\n",
    "    Taken from Applied Statistics course 2023\n",
    "    '''\n",
    "    if var is not None:\n",
    "        return np.array(var)\n",
    "    else: \n",
    "        return np.ones_like(x)\n",
    "def compute_f(f, x, *par):\n",
    "    \"\"\"\n",
    "    Taken from Applied Statistics course 2023\n",
    "    \"\"\"\n",
    "    try:\n",
    "        return f(x, *par)\n",
    "    except ValueError:\n",
    "        return np.array([f(xi, *par) for xi in x])\n",
    "\n",
    "class Negative_UnbinnedLH:  # override the class with a better one\n",
    "    \"\"\"\n",
    "    Taken from Applied Statistics course 2023\n",
    "    \"\"\"\n",
    "    def __init__(self, f, data, weights=None, bound=None, badvalue=-100000, extended=False, extended_bound=None, extended_nint=100):\n",
    "        \n",
    "        if bound is not None:\n",
    "            data = np.array(data)\n",
    "            mask = (data >= bound[0]) & (data <= bound[1])\n",
    "            data = data[mask]\n",
    "            if (weights is not None) :\n",
    "                weights = weights[mask]\n",
    "\n",
    "        self.f = f  # model predicts PDF for given x\n",
    "        self.data = np.array(data)\n",
    "        self.weights = set_var_if_None(weights, self.data)\n",
    "        self.bad_value = badvalue\n",
    "        \n",
    "        self.extended = extended\n",
    "        self.extended_bound = extended_bound\n",
    "        self.extended_nint = extended_nint\n",
    "        if extended and extended_bound is None:\n",
    "            self.extended_bound = (np.min(data), np.max(data))\n",
    "\n",
    "        \n",
    "        self.func_code = make_func_code(describe(self.f)[1:])\n",
    "\n",
    "    def __call__(self, *par):  # par are a variable number of model parameters\n",
    "        \n",
    "        logf = np.zeros_like(self.data)\n",
    "        \n",
    "        # compute the function value\n",
    "        f = compute_f(self.f, self.data, *par)\n",
    "    \n",
    "        # find where the PDF is 0 or negative (unphysical)        \n",
    "        mask_f_positive = (f>0)\n",
    "\n",
    "        # calculate the log of f everyhere where f is positive\n",
    "        logf[mask_f_positive] = np.log(f[mask_f_positive]) * self.weights[mask_f_positive] \n",
    "        \n",
    "        # set everywhere else to badvalue\n",
    "        logf[~mask_f_positive] = self.bad_value\n",
    "        \n",
    "        # compute the sum of the log values: the LLH (Minuit minimises the negative LLH)\n",
    "        llh = -np.sum(logf)\n",
    "        \n",
    "        if self.extended:\n",
    "            extended_term = integrate1d(self.f, self.extended_bound, self.extended_nint, *par)\n",
    "            llh += extended_term\n",
    "        \n",
    "        return llh\n",
    "    \n",
    "    def default_errordef(self):\n",
    "        return 0.5\n",
    "    \n",
    "class Chi2Regression:  # override the class with a better one\n",
    "        \n",
    "    def __init__(self, f, x, y, sy=None, weights=None, bound=None):\n",
    "        \n",
    "        if bound is not None:\n",
    "            x = np.array(x)\n",
    "            y = np.array(y)\n",
    "            sy = np.array(sy)\n",
    "            mask = (x >= bound[0]) & (x <= bound[1])\n",
    "            x  = x[mask]\n",
    "            y  = y[mask]\n",
    "            sy = sy[mask]\n",
    "\n",
    "        self.f = f  # model predicts y for given x\n",
    "        self.x = np.array(x)\n",
    "        self.y = np.array(y)\n",
    "        \n",
    "        self.sy = set_var_if_None(sy, self.x)\n",
    "        self.weights = set_var_if_None(weights, self.x)\n",
    "        self.func_code = make_func_code(describe(self.f)[1:])\n",
    "        #self._parameters = make_func_code(describe(self.f)[1:])\n",
    "\n",
    "    def __call__(self, *par):  # par are a variable number of model parameters\n",
    "        \n",
    "        # compute the function value\n",
    "        f = compute_f(self.f, self.x, *par)\n",
    "        \n",
    "        # compute the chi2-value\n",
    "        chi2 = np.sum(self.weights*(self.y - f)**2/self.sy**2)\n",
    "        \n",
    "        return chi2\n",
    "\n",
    "def AIC_and_AICc(mll, n, k):\n",
    "    \"\"\"\n",
    "    mll (float) : max loglikelihood\n",
    "    n (int): number of data points\n",
    "    k (int): number of parameters\n",
    "    \"\"\"\n",
    "    AIC = -2 * mll + 2 * k \n",
    "    AICc = AIC + (2 * k * (k + 1))/(n - k -1)\n",
    "    return AIC, AICc"
   ]
  },
  {
   "cell_type": "code",
   "execution_count": 28,
   "id": "59b5ddd6",
   "metadata": {},
   "outputs": [],
   "source": [
    "# PDFs\n",
    "def gauss(data, mu, sigma):\n",
    "    return 1/np.sqrt(2*np.pi*sigma**2)*np.exp(-0.5*(data-mu)**2/sigma**2)\n",
    "\n",
    "def double_gauss(data, w, mu1, sigma1, mu2, sigma2):\n",
    "    return w * gauss(data, mu1, sigma1) + (1-w) * gauss(data, mu2, sigma2)\n",
    "\n",
    "def skewed_gauss(data, mu, sigma, alpha):\n",
    "    if sigma <= 0:\n",
    "        return np.inf  # Avoid invalid parameter values\n",
    "\n",
    "    # Skewed Gaussian PDF\n",
    "    z = (data - mu) / sigma\n",
    "    pdf = (2 / sigma) * norm.pdf(z) * norm.cdf(alpha * z)\n",
    "    return pdf\n",
    "\n",
    "def double_skewed_gauss(data, w, mu1, sigma1, mu2, sigma2):\n",
    "    if sigma1 <= 0 or sigma2 <= 0 or not (0 <= w <= 1):\n",
    "        return np.inf  # Avoid invalid parameter values\n",
    "    \n",
    "    pdf = w * skewed_gauss(data, mu1, sigma1, alpha1) + (1-w) * skewed_gauss(data, mu2, sigma2)\n",
    "\n",
    "    "
   ]
  },
  {
   "cell_type": "code",
   "execution_count": 29,
   "id": "bfb712cb",
   "metadata": {},
   "outputs": [
    {
     "data": {
      "image/png": "[encoded data removed]",
      "text/plain": [
       "<Figure size 800x600 with 1 Axes>"
      ]
     },
     "metadata": {},
     "output_type": "display_data"
    }
   ],
   "source": [
    "# get an idea of how to set the initial conditions from looking at plots\n",
    "time_df = pd.read_csv(\"time_delay_diff_241021.csv\")\n",
    "tsample1, x1, y1, dy1, bw1 = select_prepare_sample(df=time_df, scalefactor=1.0)\n",
    "plot_distributions(x1, y1, dy1, 1.0, bw1)"
   ]
  },
  {
   "cell_type": "code",
   "execution_count": 39,
   "id": "05f8799f",
   "metadata": {},
   "outputs": [],
   "source": [
    "# input\n",
    "model = gauss\n",
    "data=tsample1\n",
    "x_data = x1 # binned data - only non-zero counts.\n",
    "y_data = y1 # binned data\n",
    "sy = dy1    # binned data\n",
    "p0=[1.0, 2.0]\n",
    "\n",
    "# negative loglikelihood\n",
    "nll=Negative_UnbinnedLH(model, data)\n",
    "\n",
    "# chi2\n",
    "chi2 = Chi2Regression(model, x_data, y_data, sy)\n",
    "\n",
    "# create minuit object (nll, chi2)\n",
    "m_ll = Minuit(nll, *p0)\n",
    "m_chi2 = Minuit(chi2, *p0)\n",
    "\n",
    "# bounds on parameter values\n",
    "def minuit_parameter_limits(m):\n",
    "    '''\n",
    "    m (minuit object)\n",
    "    puts limits on parameter values\n",
    "    '''\n",
    "    \n",
    "    if \"sigma\" in m.limits:\n",
    "        m.limits[\"sigma\"] = (1e-3, None)  # sigma > 0\n",
    "\n",
    "    if \"sigma1\" and \"sigma2\" and \"w\" in m.limits:\n",
    "        m.limits[\"sigma1\"] = (1e-3, None) \n",
    "        m.limits[\"sigma2\"] = (1e-3, None)\n",
    "        m.limits[\"w\"]=(0,1)\n",
    "minuit_parameter_limits(m_ll)\n",
    "minuit_parameter_limits(m_chi2)\n",
    "    \n",
    "# Perform minimization   \n",
    "m_ll.migrad()  \n",
    "m_chi2.errordef = 1.0 # chi2\n",
    "m_chi2.migrad()\n",
    "\n",
    "# max (unbinned) log likelihood\n",
    "max_ullh = -m_ll.fval \n",
    "\n",
    "# chi2 value\n",
    "chi2 =  m_chi2.fval\n",
    "\n",
    "# AIC and bias corrected AIC\n",
    "AIC, AICc = AIC_and_AICc(mll=max_ullh, n=len(data), k=m_ll.nfit)\n",
    "\n",
    "# p-value (chi2, Ndof)\n",
    "Ndof = len(x_data)-m_chi2.nfit\n",
    "p = stats.chi2.sf(chi2, Ndof)\n",
    "\n",
    "\n",
    "\n",
    "# returns - save to external file.\n",
    "print(max_ullh, chi2, p, AIC, AICc)\n",
    "\n",
    "for val, err in zip(m_ll.values, m_ll.errors):\n",
    "    print(val, err)\n",
    "    \n",
    "for val, err in zip(m_chi2.values, m_chi2.erros):\n",
    "    print(val, err)"
   ]
  },
  {
   "cell_type": "code",
   "execution_count": 42,
   "id": "0419e95d",
   "metadata": {},
   "outputs": [
    {
     "name": "stdout",
     "output_type": "stream",
     "text": [
      "-2383.4309770037044 56.29527723874539 0.0011838800823763247 4770.861954007409 4770.872630163993\n",
      "0.9903986979856444 0.08448480656186916\n",
      "2.0055129266534375 0.05973910080811045\n"
     ]
    }
   ],
   "source": []
  },
  {
   "cell_type": "code",
   "execution_count": 36,
   "id": "ccbe8b99",
   "metadata": {},
   "outputs": [
    {
     "data": {
      "text/plain": [
       "<ErrorView mu=0.08448480656186916 sigma=0.05973910080811045>"
      ]
     },
     "execution_count": 36,
     "metadata": {},
     "output_type": "execute_result"
    }
   ],
   "source": [
    "m_ll.errors"
   ]
  },
  {
   "cell_type": "code",
   "execution_count": 33,
   "id": "b9a79a5d",
   "metadata": {},
   "outputs": [
    {
     "data": {
      "text/plain": [
       "<ValueView mu=1.0042678448340818 sigma=1.9112498938956517>"
      ]
     },
     "execution_count": 33,
     "metadata": {},
     "output_type": "execute_result"
    }
   ],
   "source": [
    "m_chi2.values"
   ]
  },
  {
   "cell_type": "code",
   "execution_count": 34,
   "id": "088f62d2",
   "metadata": {},
   "outputs": [
    {
     "data": {
      "text/plain": [
       "<ErrorView mu=0.06523796985243459 sigma=0.044779200581826446>"
      ]
     },
     "execution_count": 34,
     "metadata": {},
     "output_type": "execute_result"
    }
   ],
   "source": [
    "m_chi2.errors"
   ]
  },
  {
   "cell_type": "code",
   "execution_count": 8,
   "id": "a03c75fd",
   "metadata": {},
   "outputs": [],
   "source": [
    "def get_stats(model, data, p0):\n",
    "    \"\"\"\n",
    "    model (function): PDF\n",
    "    data (array, list): data\n",
    "    p0 (list): initial guesses\n",
    "    \n",
    "    \n",
    "    Returns:\n",
    "    ullh (float): maximum loglikelihood\n",
    "    params (list): fit parameters\n",
    "    \n",
    "    \"\"\"\n",
    "\n",
    "    \n",
    "\n",
    "\n"
   ]
  },
  {
   "cell_type": "code",
   "execution_count": 9,
   "id": "2deab38e",
   "metadata": {},
   "outputs": [
    {
     "data": {
      "text/plain": [
       "[0.9903986979856444, 2.005514786542577]"
      ]
     },
     "execution_count": 9,
     "metadata": {},
     "output_type": "execute_result"
    }
   ],
   "source": [
    "m.values[:]"
   ]
  },
  {
   "cell_type": "code",
   "execution_count": null,
   "id": "cbfd5180",
   "metadata": {},
   "outputs": [],
   "source": []
  }
 ],
 "metadata": {
  "kernelspec": {
   "display_name": "Python 3 (ipykernel)",
   "language": "python",
   "name": "python3"
  },
  "language_info": {
   "codemirror_mode": {
    "name": "ipython",
    "version": 3
   },
   "file_extension": ".py",
   "mimetype": "text/x-python",
   "name": "python",
   "nbconvert_exporter": "python",
   "pygments_lexer": "ipython3",
   "version": "3.11.5"
  }
 },
 "nbformat": 4,
 "nbformat_minor": 5
}
