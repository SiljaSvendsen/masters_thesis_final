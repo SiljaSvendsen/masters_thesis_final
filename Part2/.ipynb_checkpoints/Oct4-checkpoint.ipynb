{
 "cells": [
  {
   "cell_type": "code",
   "execution_count": 2,
   "id": "1db5459b",
   "metadata": {},
   "outputs": [],
   "source": [
    "from Module_241021 import (equations_NGEO_and_F, # GNEO 1\n",
    "                           equations_NGEOF_and_maOE, # GNEO 2\n",
    "                           par0909,\n",
    "                           generate_ic_to_scan_deterministic_triangle,\n",
    "                           \n",
    "                          )"
   ]
  },
  {
   "cell_type": "code",
   "execution_count": 5,
   "id": "d500a34f",
   "metadata": {},
   "outputs": [],
   "source": [
    "import matplotlib.pyplot as plt\n",
    "import numpy as np\n",
    "import sys\n",
    "import os\n",
    "import pandas as pd\n",
    "import scipy as sb\n",
    "from scipy.integrate import solve_ivp"
   ]
  },
  {
   "cell_type": "code",
   "execution_count": 6,
   "id": "7364247e",
   "metadata": {},
   "outputs": [],
   "source": [
    "?solve_ivp"
   ]
  },
  {
   "cell_type": "code",
   "execution_count": null,
   "id": "3c0fe583",
   "metadata": {},
   "outputs": [],
   "source": [
    "?generate"
   ]
  },
  {
   "cell_type": "code",
   "execution_count": null,
   "id": "efdb3c63",
   "metadata": {},
   "outputs": [],
   "source": [
    "solve_ivp(equations_NGEO_and_F)"
   ]
  }
 ],
 "metadata": {
  "kernelspec": {
   "display_name": "Python 3 (ipykernel)",
   "language": "python",
   "name": "python3"
  },
  "language_info": {
   "codemirror_mode": {
    "name": "ipython",
    "version": 3
   },
   "file_extension": ".py",
   "mimetype": "text/x-python",
   "name": "python",
   "nbconvert_exporter": "python",
   "pygments_lexer": "ipython3",
   "version": "3.11.5"
  }
 },
 "nbformat": 4,
 "nbformat_minor": 5
}
