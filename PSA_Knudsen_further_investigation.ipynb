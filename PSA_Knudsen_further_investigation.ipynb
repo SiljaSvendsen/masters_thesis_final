{
 "cells": [
  {
   "cell_type": "code",
   "execution_count": 1,
   "id": "d38aa722",
   "metadata": {},
   "outputs": [],
   "source": [
    "import matplotlib.pyplot as plt\n",
    "import numpy as np\n",
    "import pandas as pd"
   ]
  },
  {
   "cell_type": "code",
   "execution_count": 2,
   "id": "ed409000",
   "metadata": {},
   "outputs": [],
   "source": [
    "from Module_241007 import (par0,\n",
    "                           load_data_w_glob,\n",
    "                           sample_delay_time,\n",
    "                           equations_NG_F,\n",
    "                           equations_NGE_and_F,\n",
    "                           bifurcation_diagram_of_sampled_data_relchange\n",
    "                          )"
   ]
  },
  {
   "cell_type": "code",
   "execution_count": 3,
   "id": "e47577b6",
   "metadata": {},
   "outputs": [],
   "source": [
    "sample_bifur_data = True"
   ]
  },
  {
   "cell_type": "markdown",
   "id": "7cac4f7b",
   "metadata": {},
   "source": [
    "**Bifurcation diagrams**\n",
    "\n",
    "Since plotting the steady state values only at the rel change values I already had, looked too sparce, I run simulations from the same set of ics but from a more fine grained rel change array.\n",
    "\n",
    "I am interested in the GN and GNE network for paraemter alphaGN and KmiNG"
   ]
  },
  {
   "cell_type": "code",
   "execution_count": 4,
   "id": "8312c5b9",
   "metadata": {},
   "outputs": [],
   "source": [
    "# 0. load data\n",
    "GN_all = load_data_w_glob(directory_path=\"PSA_data\", file_pattern=\"GN_*csv\")\n",
    "GNE_all = load_data_w_glob(directory_path=\"PSA_data\", file_pattern=\"GNE_*csv\")"
   ]
  },
  {
   "cell_type": "code",
   "execution_count": 5,
   "id": "9f4939ef",
   "metadata": {},
   "outputs": [],
   "source": [
    "?bifurcation_diagram_of_sampled_data_relchange"
   ]
  },
  {
   "cell_type": "code",
   "execution_count": 6,
   "id": "9e90d86e",
   "metadata": {},
   "outputs": [
    {
     "name": "stdout",
     "output_type": "stream",
     "text": [
      "DONE\n",
      "DONE\n",
      "DONE\n",
      "DONE\n"
     ]
    }
   ],
   "source": [
    "# 1. sample the bifurcation data\n",
    "if sample_bifur_data:\n",
    "    # GN alphaGN\n",
    "    bifurcation_diagram_of_sampled_data_relchange(df_network=GN_all,\n",
    "                                                  dim=2,\n",
    "                                                  model=equations_NG_F,\n",
    "                                                  date=\"241013\",\n",
    "                                                  parameter=\"alphaGN\",\n",
    "                                                  parameter1=\"wf_G\",\n",
    "                                                  savefile=True\n",
    "                                                 )\n",
    "\n",
    "    # GN KmiNG\n",
    "    bifurcation_diagram_of_sampled_data_relchange(df_network=GN_all,\n",
    "                                                  dim=2,\n",
    "                                                  model=equations_NG_F,\n",
    "                                                  date=\"241013\",\n",
    "                                                  parameter=\"KmiNG\",\n",
    "                                                  parameter1=\"K_GN\",\n",
    "                                                  savefile=True\n",
    "                                                 )\n",
    "\n",
    "    # GNE alphaGN\n",
    "    bifurcation_diagram_of_sampled_data_relchange(df_network=GNE_all,\n",
    "                                                  dim=3,\n",
    "                                                  model=equations_NGE_and_F,\n",
    "                                                  date=\"241013\",\n",
    "                                                  parameter=\"alphaGN\",\n",
    "                                                  parameter1=\"wf_G\",\n",
    "                                                  savefile=True\n",
    "                                                 )\n",
    "\n",
    "    # GNE KmiNG\n",
    "    bifurcation_diagram_of_sampled_data_relchange(df_network=GNE_all,\n",
    "                                                  dim=3,\n",
    "                                                  model=equations_NGE_and_F,\n",
    "                                                  date=\"241013\",\n",
    "                                                  parameter=\"KmiNG\",\n",
    "                                                  parameter1=\"K_GN\",\n",
    "                                                  savefile=True\n",
    "                                                 )"
   ]
  },
  {
   "cell_type": "code",
   "execution_count": 7,
   "id": "c37f7ff0",
   "metadata": {},
   "outputs": [
    {
     "ename": "SyntaxError",
     "evalue": "'break' outside loop (668683560.py, line 1)",
     "output_type": "error",
     "traceback": [
      "\u001b[0;36m  Cell \u001b[0;32mIn[7], line 1\u001b[0;36m\u001b[0m\n\u001b[0;31m    break\u001b[0m\n\u001b[0m    ^\u001b[0m\n\u001b[0;31mSyntaxError\u001b[0m\u001b[0;31m:\u001b[0m 'break' outside loop\n"
     ]
    }
   ],
   "source": [
    "break"
   ]
  },
  {
   "cell_type": "code",
   "execution_count": null,
   "id": "16d4bc5f",
   "metadata": {},
   "outputs": [],
   "source": [
    "break\n",
    "# a not on plotting bifurcation diagram when I come so far.\n",
    "\n",
    "x = np.logspace(np.log2(0.2), np.log2(5.0), 11270, base=2)\n",
    "x = np.linspace(0.2, 5, 11270)\n",
    "y = GN_all[GN_all[\"parameter\"]==\"alphaGN\"][\"ss gata6\"]\n",
    "y1 = GN_all[GN_all[\"parameter\"]==\"alphaGN\"][\"ss nanog\"]\n",
    "plt.plot(x,np.log2(y), \".\")\n",
    "plt.plot(x,np.log2(y1), \".\")\n",
    "tick_label=np.sort(GN_all[\"rel change\"].unique())\n",
    "xtick, label=plt.xticks(ticks=np.linspace(0,5,len(tick_label)), labels=tick_label)"
   ]
  },
  {
   "cell_type": "code",
   "execution_count": null,
   "id": "6ffa941f",
   "metadata": {},
   "outputs": [],
   "source": [
    "\n"
   ]
  },
  {
   "cell_type": "code",
   "execution_count": null,
   "id": "bf61f6d5",
   "metadata": {},
   "outputs": [],
   "source": []
  }
 ],
 "metadata": {
  "kernelspec": {
   "display_name": "Python 3 (ipykernel)",
   "language": "python",
   "name": "python3"
  },
  "language_info": {
   "codemirror_mode": {
    "name": "ipython",
    "version": 3
   },
   "file_extension": ".py",
   "mimetype": "text/x-python",
   "name": "python",
   "nbconvert_exporter": "python",
   "pygments_lexer": "ipython3",
   "version": "3.11.5"
  }
 },
 "nbformat": 4,
 "nbformat_minor": 5
}
