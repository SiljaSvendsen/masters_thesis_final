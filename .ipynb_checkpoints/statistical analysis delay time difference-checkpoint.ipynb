{
 "cells": [
  {
   "cell_type": "markdown",
   "id": "1c271fc4",
   "metadata": {},
   "source": [
    "# Question: Does Oct4 extend the delay time i.e. cell plasticity?"
   ]
  },
  {
   "cell_type": "markdown",
   "id": "f812b94e",
   "metadata": {},
   "source": [
    "### Statistical tests\n",
    "**Notebook description/ method ** <br>\n",
    "\n",
    "Previously, I have calculated the delay time differences between the GNE, GNEO1, and GNEO2 networks and the GN reference network, $\\Delta\\tau_{i -GN}$, where $i \\in \\{GNE, GNEO1, GNEO2\\}$.\n",
    "\n",
    "In this notebook, I perform statistical analysis on the $\\Delta\\tau_{i -GN}$ data.\n",
    "For each condition (parameter, rel change), I compare the delay time difference.\n",
    "\n",
    "First, I check if the distrition of delay time differences is a normal distribution.\n",
    "Besides a plotting the distribution (graphical method), I perform a Shapiro-Wilk test, to acces whether the delay time differences are normally distributioned or not. The null hypothesis is: \"The distribution of delay time diffrences follow a normal distribution.\" The choice if significance level $\\alpha=0.05$ (common practice.)\n",
    "\n",
    "If the normality assumption is valid, I perform a one-sided t-test with the null hypothesis: \"The delay time differences between network i+1 is the same or smaller than the delay time differnces between network i.\" For example, if i = GNE, i+1 = GNEO1.\n",
    "\n",
    "If the distributions of the delay time diffrences do not follow a normal distribution, I perform a one-sided Mann-Whitney U-test. The null hypothesis is the same: \"The delay time differences between network i+1 is the same or smaller than the delay time differnces between network i.\"\n",
    "\n",
    "In both cases, I use signicance level $\\alpha=0.05$ (\\*, reasonable confidence),$\\alpha=0.01$,(\\*\\*)$\\alpha=0.001$ (\\*\\*\\*, high-confidence results) to test the strength of evidence. [note to self: i will only indicate the aesterics if the null hypothesis is rejected.]\n",
    "**Result** <br>\n",
    "\n",
    "Example of result (update when the analysis is done. this is just to rememeber what i am interested in): None of the distributions follow a normal distribution.\n"
   ]
  },
  {
   "cell_type": "code",
   "execution_count": 2,
   "id": "0ead3f7b",
   "metadata": {},
   "outputs": [],
   "source": [
    "import scipy.stats as stats\n",
    "from scipy.stats import shapiro\n",
    "import matplotlib.pyplot as plt\n",
    "import pandas as pd\n",
    "import numpy as np"
   ]
  },
  {
   "cell_type": "code",
   "execution_count": null,
   "id": "9181d992",
   "metadata": {},
   "outputs": [],
   "source": [
    "\n",
    "\n"
   ]
  },
  {
   "cell_type": "code",
   "execution_count": 5,
   "id": "27970072",
   "metadata": {},
   "outputs": [
    {
     "data": {
      "text/html": [
       "<div>\n",
       "<style scoped>\n",
       "    .dataframe tbody tr th:only-of-type {\n",
       "        vertical-align: middle;\n",
       "    }\n",
       "\n",
       "    .dataframe tbody tr th {\n",
       "        vertical-align: top;\n",
       "    }\n",
       "\n",
       "    .dataframe thead th {\n",
       "        text-align: right;\n",
       "    }\n",
       "</style>\n",
       "<table border=\"1\" class=\"dataframe\">\n",
       "  <thead>\n",
       "    <tr style=\"text-align: right;\">\n",
       "      <th></th>\n",
       "      <th>two_networks</th>\n",
       "      <th>network_ref</th>\n",
       "      <th>network_compare</th>\n",
       "      <th>parameter</th>\n",
       "      <th>rel change</th>\n",
       "      <th>condition 1</th>\n",
       "      <th>condition 2</th>\n",
       "      <th>time diff</th>\n",
       "    </tr>\n",
       "  </thead>\n",
       "  <tbody>\n",
       "    <tr>\n",
       "      <th>0</th>\n",
       "      <td>GNEvGN</td>\n",
       "      <td>GN</td>\n",
       "      <td>GNE</td>\n",
       "      <td>alphaGN</td>\n",
       "      <td>0.2</td>\n",
       "      <td>False</td>\n",
       "      <td>False</td>\n",
       "      <td>1.026493</td>\n",
       "    </tr>\n",
       "    <tr>\n",
       "      <th>1</th>\n",
       "      <td>GNEvGN</td>\n",
       "      <td>GN</td>\n",
       "      <td>GNE</td>\n",
       "      <td>alphaGN</td>\n",
       "      <td>0.2</td>\n",
       "      <td>False</td>\n",
       "      <td>False</td>\n",
       "      <td>1.054603</td>\n",
       "    </tr>\n",
       "    <tr>\n",
       "      <th>2</th>\n",
       "      <td>GNEvGN</td>\n",
       "      <td>GN</td>\n",
       "      <td>GNE</td>\n",
       "      <td>alphaGN</td>\n",
       "      <td>0.2</td>\n",
       "      <td>False</td>\n",
       "      <td>False</td>\n",
       "      <td>1.078064</td>\n",
       "    </tr>\n",
       "    <tr>\n",
       "      <th>3</th>\n",
       "      <td>GNEvGN</td>\n",
       "      <td>GN</td>\n",
       "      <td>GNE</td>\n",
       "      <td>alphaGN</td>\n",
       "      <td>0.2</td>\n",
       "      <td>False</td>\n",
       "      <td>False</td>\n",
       "      <td>1.096036</td>\n",
       "    </tr>\n",
       "    <tr>\n",
       "      <th>4</th>\n",
       "      <td>GNEvGN</td>\n",
       "      <td>GN</td>\n",
       "      <td>GNE</td>\n",
       "      <td>alphaGN</td>\n",
       "      <td>0.2</td>\n",
       "      <td>False</td>\n",
       "      <td>False</td>\n",
       "      <td>0.808440</td>\n",
       "    </tr>\n",
       "    <tr>\n",
       "      <th>...</th>\n",
       "      <td>...</td>\n",
       "      <td>...</td>\n",
       "      <td>...</td>\n",
       "      <td>...</td>\n",
       "      <td>...</td>\n",
       "      <td>...</td>\n",
       "      <td>...</td>\n",
       "      <td>...</td>\n",
       "    </tr>\n",
       "    <tr>\n",
       "      <th>338095</th>\n",
       "      <td>GNEO2vGN</td>\n",
       "      <td>GN</td>\n",
       "      <td>GNEO2</td>\n",
       "      <td>KmaOE</td>\n",
       "      <td>5.0</td>\n",
       "      <td>True</td>\n",
       "      <td>True</td>\n",
       "      <td>1.084233</td>\n",
       "    </tr>\n",
       "    <tr>\n",
       "      <th>338096</th>\n",
       "      <td>GNEO2vGN</td>\n",
       "      <td>GN</td>\n",
       "      <td>GNEO2</td>\n",
       "      <td>KmaOE</td>\n",
       "      <td>5.0</td>\n",
       "      <td>True</td>\n",
       "      <td>True</td>\n",
       "      <td>1.141135</td>\n",
       "    </tr>\n",
       "    <tr>\n",
       "      <th>338097</th>\n",
       "      <td>GNEO2vGN</td>\n",
       "      <td>GN</td>\n",
       "      <td>GNEO2</td>\n",
       "      <td>KmaOE</td>\n",
       "      <td>5.0</td>\n",
       "      <td>True</td>\n",
       "      <td>True</td>\n",
       "      <td>1.212725</td>\n",
       "    </tr>\n",
       "    <tr>\n",
       "      <th>338098</th>\n",
       "      <td>GNEO2vGN</td>\n",
       "      <td>GN</td>\n",
       "      <td>GNEO2</td>\n",
       "      <td>KmaOE</td>\n",
       "      <td>5.0</td>\n",
       "      <td>True</td>\n",
       "      <td>True</td>\n",
       "      <td>1.339217</td>\n",
       "    </tr>\n",
       "    <tr>\n",
       "      <th>338099</th>\n",
       "      <td>GNEO2vGN</td>\n",
       "      <td>GN</td>\n",
       "      <td>GNEO2</td>\n",
       "      <td>KmaOE</td>\n",
       "      <td>5.0</td>\n",
       "      <td>True</td>\n",
       "      <td>True</td>\n",
       "      <td>1.561619</td>\n",
       "    </tr>\n",
       "  </tbody>\n",
       "</table>\n",
       "<p>338100 rows × 8 columns</p>\n",
       "</div>"
      ],
      "text/plain": [
       "       two_networks network_ref network_compare parameter  rel change  \\\n",
       "0            GNEvGN          GN             GNE   alphaGN         0.2   \n",
       "1            GNEvGN          GN             GNE   alphaGN         0.2   \n",
       "2            GNEvGN          GN             GNE   alphaGN         0.2   \n",
       "3            GNEvGN          GN             GNE   alphaGN         0.2   \n",
       "4            GNEvGN          GN             GNE   alphaGN         0.2   \n",
       "...             ...         ...             ...       ...         ...   \n",
       "338095     GNEO2vGN          GN           GNEO2     KmaOE         5.0   \n",
       "338096     GNEO2vGN          GN           GNEO2     KmaOE         5.0   \n",
       "338097     GNEO2vGN          GN           GNEO2     KmaOE         5.0   \n",
       "338098     GNEO2vGN          GN           GNEO2     KmaOE         5.0   \n",
       "338099     GNEO2vGN          GN           GNEO2     KmaOE         5.0   \n",
       "\n",
       "        condition 1  condition 2  time diff  \n",
       "0             False        False   1.026493  \n",
       "1             False        False   1.054603  \n",
       "2             False        False   1.078064  \n",
       "3             False        False   1.096036  \n",
       "4             False        False   0.808440  \n",
       "...             ...          ...        ...  \n",
       "338095         True         True   1.084233  \n",
       "338096         True         True   1.141135  \n",
       "338097         True         True   1.212725  \n",
       "338098         True         True   1.339217  \n",
       "338099         True         True   1.561619  \n",
       "\n",
       "[338100 rows x 8 columns]"
      ]
     },
     "execution_count": 5,
     "metadata": {},
     "output_type": "execute_result"
    }
   ],
   "source": [
    "# 0. load data\n",
    "diff_tau_all = pd.read_csv(\"time_delay_diff_241010_v4.csv\")\n",
    "diff_tau_all"
   ]
  },
  {
   "cell_type": "code",
   "execution_count": 4,
   "id": "5d1e8a43",
   "metadata": {},
   "outputs": [
    {
     "data": {
      "text/html": [
       "<div>\n",
       "<style scoped>\n",
       "    .dataframe tbody tr th:only-of-type {\n",
       "        vertical-align: middle;\n",
       "    }\n",
       "\n",
       "    .dataframe tbody tr th {\n",
       "        vertical-align: top;\n",
       "    }\n",
       "\n",
       "    .dataframe thead th {\n",
       "        text-align: right;\n",
       "    }\n",
       "</style>\n",
       "<table border=\"1\" class=\"dataframe\">\n",
       "  <thead>\n",
       "    <tr style=\"text-align: right;\">\n",
       "      <th></th>\n",
       "      <th>two_networks</th>\n",
       "      <th>network_ref</th>\n",
       "      <th>network_compare</th>\n",
       "      <th>parameter</th>\n",
       "      <th>rel change</th>\n",
       "      <th>condition 1</th>\n",
       "      <th>condition 2</th>\n",
       "      <th>time diff</th>\n",
       "    </tr>\n",
       "  </thead>\n",
       "  <tbody>\n",
       "    <tr>\n",
       "      <th>0</th>\n",
       "      <td>GNEvGN</td>\n",
       "      <td>GN</td>\n",
       "      <td>GNE</td>\n",
       "      <td>alphaGN</td>\n",
       "      <td>0.2</td>\n",
       "      <td>False</td>\n",
       "      <td>False</td>\n",
       "      <td>1.026493</td>\n",
       "    </tr>\n",
       "    <tr>\n",
       "      <th>1</th>\n",
       "      <td>GNEvGN</td>\n",
       "      <td>GN</td>\n",
       "      <td>GNE</td>\n",
       "      <td>alphaGN</td>\n",
       "      <td>0.2</td>\n",
       "      <td>False</td>\n",
       "      <td>False</td>\n",
       "      <td>1.054603</td>\n",
       "    </tr>\n",
       "    <tr>\n",
       "      <th>2</th>\n",
       "      <td>GNEvGN</td>\n",
       "      <td>GN</td>\n",
       "      <td>GNE</td>\n",
       "      <td>alphaGN</td>\n",
       "      <td>0.2</td>\n",
       "      <td>False</td>\n",
       "      <td>False</td>\n",
       "      <td>1.078064</td>\n",
       "    </tr>\n",
       "    <tr>\n",
       "      <th>3</th>\n",
       "      <td>GNEvGN</td>\n",
       "      <td>GN</td>\n",
       "      <td>GNE</td>\n",
       "      <td>alphaGN</td>\n",
       "      <td>0.2</td>\n",
       "      <td>False</td>\n",
       "      <td>False</td>\n",
       "      <td>1.096036</td>\n",
       "    </tr>\n",
       "    <tr>\n",
       "      <th>4</th>\n",
       "      <td>GNEvGN</td>\n",
       "      <td>GN</td>\n",
       "      <td>GNE</td>\n",
       "      <td>alphaGN</td>\n",
       "      <td>0.2</td>\n",
       "      <td>False</td>\n",
       "      <td>False</td>\n",
       "      <td>0.808440</td>\n",
       "    </tr>\n",
       "    <tr>\n",
       "      <th>...</th>\n",
       "      <td>...</td>\n",
       "      <td>...</td>\n",
       "      <td>...</td>\n",
       "      <td>...</td>\n",
       "      <td>...</td>\n",
       "      <td>...</td>\n",
       "      <td>...</td>\n",
       "      <td>...</td>\n",
       "    </tr>\n",
       "    <tr>\n",
       "      <th>338095</th>\n",
       "      <td>GNEO2vGN</td>\n",
       "      <td>GN</td>\n",
       "      <td>GNEO2</td>\n",
       "      <td>KmaOE</td>\n",
       "      <td>5.0</td>\n",
       "      <td>True</td>\n",
       "      <td>True</td>\n",
       "      <td>1.084233</td>\n",
       "    </tr>\n",
       "    <tr>\n",
       "      <th>338096</th>\n",
       "      <td>GNEO2vGN</td>\n",
       "      <td>GN</td>\n",
       "      <td>GNEO2</td>\n",
       "      <td>KmaOE</td>\n",
       "      <td>5.0</td>\n",
       "      <td>True</td>\n",
       "      <td>True</td>\n",
       "      <td>1.141135</td>\n",
       "    </tr>\n",
       "    <tr>\n",
       "      <th>338097</th>\n",
       "      <td>GNEO2vGN</td>\n",
       "      <td>GN</td>\n",
       "      <td>GNEO2</td>\n",
       "      <td>KmaOE</td>\n",
       "      <td>5.0</td>\n",
       "      <td>True</td>\n",
       "      <td>True</td>\n",
       "      <td>1.212725</td>\n",
       "    </tr>\n",
       "    <tr>\n",
       "      <th>338098</th>\n",
       "      <td>GNEO2vGN</td>\n",
       "      <td>GN</td>\n",
       "      <td>GNEO2</td>\n",
       "      <td>KmaOE</td>\n",
       "      <td>5.0</td>\n",
       "      <td>True</td>\n",
       "      <td>True</td>\n",
       "      <td>1.339217</td>\n",
       "    </tr>\n",
       "    <tr>\n",
       "      <th>338099</th>\n",
       "      <td>GNEO2vGN</td>\n",
       "      <td>GN</td>\n",
       "      <td>GNEO2</td>\n",
       "      <td>KmaOE</td>\n",
       "      <td>5.0</td>\n",
       "      <td>True</td>\n",
       "      <td>True</td>\n",
       "      <td>1.561619</td>\n",
       "    </tr>\n",
       "  </tbody>\n",
       "</table>\n",
       "<p>338100 rows × 8 columns</p>\n",
       "</div>"
      ],
      "text/plain": [
       "       two_networks network_ref network_compare parameter  rel change  \\\n",
       "0            GNEvGN          GN             GNE   alphaGN         0.2   \n",
       "1            GNEvGN          GN             GNE   alphaGN         0.2   \n",
       "2            GNEvGN          GN             GNE   alphaGN         0.2   \n",
       "3            GNEvGN          GN             GNE   alphaGN         0.2   \n",
       "4            GNEvGN          GN             GNE   alphaGN         0.2   \n",
       "...             ...         ...             ...       ...         ...   \n",
       "338095     GNEO2vGN          GN           GNEO2     KmaOE         5.0   \n",
       "338096     GNEO2vGN          GN           GNEO2     KmaOE         5.0   \n",
       "338097     GNEO2vGN          GN           GNEO2     KmaOE         5.0   \n",
       "338098     GNEO2vGN          GN           GNEO2     KmaOE         5.0   \n",
       "338099     GNEO2vGN          GN           GNEO2     KmaOE         5.0   \n",
       "\n",
       "        condition 1  condition 2  time diff  \n",
       "0             False        False   1.026493  \n",
       "1             False        False   1.054603  \n",
       "2             False        False   1.078064  \n",
       "3             False        False   1.096036  \n",
       "4             False        False   0.808440  \n",
       "...             ...          ...        ...  \n",
       "338095         True         True   1.084233  \n",
       "338096         True         True   1.141135  \n",
       "338097         True         True   1.212725  \n",
       "338098         True         True   1.339217  \n",
       "338099         True         True   1.561619  \n",
       "\n",
       "[338100 rows x 8 columns]"
      ]
     },
     "execution_count": 4,
     "metadata": {},
     "output_type": "execute_result"
    }
   ],
   "source": []
  },
  {
   "cell_type": "code",
   "execution_count": 17,
   "id": "55a266bc",
   "metadata": {},
   "outputs": [],
   "source": [
    "# only compare diff delay times if both networks involved are bistable and robust in their stable fixed points.\n",
    "mask0 = diff_tau_all[\"condition 1\"]==True # bistable\n",
    "mask1 = diff_tau_all[\"condition 2\"]==True # sfp\n",
    "\n",
    "diff_tau = diff_tau_all[mask0 & mask1]"
   ]
  },
  {
   "cell_type": "code",
   "execution_count": 88,
   "id": "c88df139",
   "metadata": {},
   "outputs": [],
   "source": [
    "parameter = \"alphaGN\"\n",
    "network = \"GNEO1vGN\"\n",
    "change = 1.0\n",
    "\n",
    "mask_param = diff_tau[\"parameter\"]==parameter\n",
    "mask_networks = diff_tau[\"two_networks\"]==network\n",
    "mask_relchange = diff_tau[\"rel change\"]==change\n",
    "data = diff_tau[mask_param & mask_networks & mask_relchange][\"time diff\"]"
   ]
  },
  {
   "cell_type": "code",
   "execution_count": 89,
   "id": "0c485753",
   "metadata": {},
   "outputs": [
    {
     "data": {
      "text/plain": [
       "9.528276859782636e-05"
      ]
     },
     "execution_count": 89,
     "metadata": {},
     "output_type": "execute_result"
    }
   ],
   "source": [
    "import random\n",
    "#data=np.random.normal(size=1127)\n",
    "stat, p_value = shapiro(data)\n",
    "p_value"
   ]
  },
  {
   "cell_type": "code",
   "execution_count": null,
   "id": "46366530",
   "metadata": {},
   "outputs": [],
   "source": []
  },
  {
   "cell_type": "code",
   "execution_count": 64,
   "id": "02f47541",
   "metadata": {},
   "outputs": [
    {
     "data": {
      "text/plain": [
       "0.9982948899269104"
      ]
     },
     "execution_count": 64,
     "metadata": {},
     "output_type": "execute_result"
    }
   ],
   "source": []
  },
  {
   "cell_type": "code",
   "execution_count": 90,
   "id": "64edb9eb",
   "metadata": {},
   "outputs": [
    {
     "data": {
      "text/plain": [
       "((array([-3.23190097, -2.96929527, -2.82291729, ...,  2.82291729,\n",
       "          2.96929527,  3.23190097]),\n",
       "  array([-6.08319903, -5.083292  , -4.85389187, ...,  8.2007591 ,\n",
       "          9.61863073, 10.17412595])),\n",
       " (2.3977303974507174, 1.6983893154505059, 0.996797110120824))"
      ]
     },
     "execution_count": 90,
     "metadata": {},
     "output_type": "execute_result"
    },
    {
     "data": {
      "image/png": "[encoded data removed]",
      "text/plain": [
       "<Figure size 640x480 with 1 Axes>"
      ]
     },
     "metadata": {},
     "output_type": "display_data"
    }
   ],
   "source": [
    "stats.probplot(data, dist=\"norm\", plot=plt)"
   ]
  },
  {
   "cell_type": "code",
   "execution_count": 107,
   "id": "ff5d23d0",
   "metadata": {},
   "outputs": [
    {
     "name": "stdout",
     "output_type": "stream",
     "text": [
      "27.296382004171363\n"
     ]
    },
    {
     "data": {
      "image/png": "[encoded data removed]",
      "text/plain": [
       "<Figure size 640x480 with 1 Axes>"
      ]
     },
     "metadata": {},
     "output_type": "display_data"
    }
   ],
   "source": [
    "# number of bins (Freedman-Diaconis Rule)\n",
    "\n",
    "maxx=np.max(data)\n",
    "minx=np.min(data)\n",
    "Q3=data.quantile(0.75)\n",
    "Q1=data.quantile(0.25)\n",
    "IQR=Q3-Q1\n",
    "N=len(data)\n",
    "\n",
    "Nbins=(maxx-minx)/(2*IQR/N**(1/3))\n",
    "#Nbins=int(np.sqrt(len(data)))\n",
    "print(Nbins)\n",
    "\n",
    "freq, bins, patches = plt.hist(data, bins=int(Nbins)) "
   ]
  },
  {
   "cell_type": "markdown",
   "id": "92f5a5ab",
   "metadata": {},
   "source": [
    "### perform a formal normality test (Shapiro-Wilk test)\n",
    "H0: The sample is normally distributed\n",
    "\n",
    "choice of significance level: $\\sigma$=0.05 (widely accepted in practice)\n",
    "\n",
    "Note on interpretation of the p-value:\n",
    "If p-value > 0.05, the SW-test does not reject the null hypothesis, and the data is consistent with being normally distributed.\n",
    "\n",
    "If p-value < 0.05, the SW-test does reject the null hypothesis, suggesting the data is not normally distributed."
   ]
  },
  {
   "cell_type": "code",
   "execution_count": 2,
   "id": "ed479343",
   "metadata": {},
   "outputs": [],
   "source": [
    "data = [3.5, 7.2, 1.9, 5.4, 9.1]  # Unordered sample\n",
    "stat, p_value = shapiro(data)"
   ]
  },
  {
   "cell_type": "code",
   "execution_count": 3,
   "id": "f62980a7",
   "metadata": {},
   "outputs": [
    {
     "data": {
      "text/plain": [
       "0.9520812034606934"
      ]
     },
     "execution_count": 3,
     "metadata": {},
     "output_type": "execute_result"
    }
   ],
   "source": [
    "p_value"
   ]
  },
  {
   "cell_type": "markdown",
   "id": "f5839bf2",
   "metadata": {},
   "source": [
    "### If normally distributed, perform a t-test one-sided\n",
    "\n",
    "H0: The mean difference in delay time between (GNEO1 and GN) GNE and GN is (the same) zero or smaller (compared to the mean difference in delay time between GNE and GN.)\n",
    "\n",
    "H1: The mean differnce in delay time between GNE and GN is larger than zero.\n"
   ]
  },
  {
   "cell_type": "code",
   "execution_count": null,
   "id": "4262459b",
   "metadata": {},
   "outputs": [],
   "source": [
    "## Assuming you have two arrays of delay times: delay_times_network and delay_times_reference\n",
    "#t_stat, p_value = stats.ttest_ind(delay_times_network, delay_times_reference, alternative='greater')  # for one-sided\n",
    "\n",
    "## If using a basic two-sided test:\n",
    "## t_stat, p_value = stats.ttest_ind(delay_times_network, delay_times_reference)\n",
    "## p_value /= 2  # adjust for one-sided\n",
    "\n",
    "#print(f\"T-statistic: {t_stat}, One-sided p-value: {p_value}\")"
   ]
  }
 ],
 "metadata": {
  "kernelspec": {
   "display_name": "Python 3 (ipykernel)",
   "language": "python",
   "name": "python3"
  },
  "language_info": {
   "codemirror_mode": {
    "name": "ipython",
    "version": 3
   },
   "file_extension": ".py",
   "mimetype": "text/x-python",
   "name": "python",
   "nbconvert_exporter": "python",
   "pygments_lexer": "ipython3",
   "version": "3.11.5"
  }
 },
 "nbformat": 4,
 "nbformat_minor": 5
}
