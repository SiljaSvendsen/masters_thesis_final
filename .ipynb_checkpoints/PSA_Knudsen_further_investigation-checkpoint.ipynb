{
 "cells": [
  {
   "cell_type": "code",
   "execution_count": 1,
   "id": "d38aa722",
   "metadata": {},
   "outputs": [],
   "source": [
    "import matplotlib.pyplot as plt\n",
    "import numpy as np\n",
    "import pandas as pd"
   ]
  },
  {
   "cell_type": "code",
   "execution_count": 2,
   "id": "ed409000",
   "metadata": {},
   "outputs": [],
   "source": [
    "from Module_241021 import (par0,\n",
    "                           load_data_w_glob,\n",
    "                           equations_NG_F,\n",
    "                           equations_NGE_and_F,\n",
    "                           bifurcation_diagram_of_sampled_data_relchange,\n",
    "                           plot_bifurcation_diagram_gata_nanog_alpha_kmiNG\n",
    "                          )"
   ]
  },
  {
   "cell_type": "markdown",
   "id": "7cac4f7b",
   "metadata": {},
   "source": [
    "## Bifurcation diagrams\n",
    "\n",
    "Since plotting the steady state values only at the rel change values I already had, looked too sparce, I run simulations from the same set of ics but from a more fine grained rel change array.\n",
    "\n",
    "I am interested in the GN and GNE network for paraemter alphaGN and KmiNG\n",
    "\n",
    "The reference Epi and PrE states are at \n",
    " (Gata6, Nanog)=[ 1.10273171 11.46535802] \n",
    " (Gata6, Nanog)=[13.62042978  2.41356951]"
   ]
  },
  {
   "cell_type": "code",
   "execution_count": 3,
   "id": "9e90d86e",
   "metadata": {},
   "outputs": [],
   "source": [
    "sample_bifur_data = False\n",
    "\n",
    "if sample_bifur_data:\n",
    "    \n",
    "    # 0. load data\n",
    "    GN_all = load_data_w_glob(directory_path=\"PSA_data\", file_pattern=\"GN_*csv\")\n",
    "    GNE_all = load_data_w_glob(directory_path=\"PSA_data\", file_pattern=\"GNE_*csv\")\n",
    "    \n",
    "    print(\"Loading is DONE.\")\n",
    "    \n",
    "    # 1. sample the bifurcation data\n",
    "\n",
    "    # GN alphaGN\n",
    "    bifurcation_diagram_of_sampled_data_relchange(df_network=GN_all,\n",
    "                                                  dim=2,\n",
    "                                                  model=equations_NG_F,\n",
    "                                                  date=\"241021\",\n",
    "                                                  parameter=\"alphaGN\",\n",
    "                                                  parameter1=\"wf_G\",\n",
    "                                                  savefile=True\n",
    "                                                 )\n",
    "    print(\"GN DONE\")\n",
    "    \n",
    "    # GN KmiNG\n",
    "    bifurcation_diagram_of_sampled_data_relchange(df_network=GN_all,\n",
    "                                                  dim=2,\n",
    "                                                  model=equations_NG_F,\n",
    "                                                  date=\"241021\",\n",
    "                                                  parameter=\"KmiNG\",\n",
    "                                                  parameter1=\"K_GN\",\n",
    "                                                  savefile=True\n",
    "                                                 )\n",
    "    \n",
    "    # GNE alphaGN\n",
    "    bifurcation_diagram_of_sampled_data_relchange(df_network=GNE_all,\n",
    "                                                  dim=3,\n",
    "                                                  model=equations_NGE_and_F,\n",
    "                                                  date=\"241021\",\n",
    "                                                  parameter=\"alphaGN\",\n",
    "                                                  parameter1=\"wf_G\",\n",
    "                                                  savefile=True\n",
    "                                                 )\n",
    "\n",
    "    # GNE KmiNG\n",
    "    bifurcation_diagram_of_sampled_data_relchange(df_network=GNE_all,\n",
    "                                                  dim=3,\n",
    "                                                  model=equations_NGE_and_F,\n",
    "                                                  date=\"241021\",\n",
    "                                                  parameter=\"KmiNG\",\n",
    "                                                  parameter1=\"K_GN\",\n",
    "                                                  savefile=True\n",
    "                                                 )\n",
    "    print(\"GNE DONE\")"
   ]
  },
  {
   "cell_type": "code",
   "execution_count": 4,
   "id": "4658b915",
   "metadata": {},
   "outputs": [],
   "source": [
    "# 2. load bifurcation data\n",
    "GN_alphaNG_df = pd.read_csv(\"PSA_alphaGN_KmiNG/GN_alphaGN_241021.csv\")\n",
    "GN_kimNG_df = pd.read_csv(\"PSA_alphaGN_KmiNG/GN_KmiNG_241021.csv\")\n",
    "GNE_alphaNG_df = pd.read_csv(\"PSA_alphaGN_KmiNG/GNE_alphaGN_241021.csv\")\n",
    "GNE_kimNG_df = pd.read_csv(\"PSA_alphaGN_KmiNG/GNE_KmiNG_241021.csv\")"
   ]
  },
  {
   "cell_type": "code",
   "execution_count": 5,
   "id": "19ad3b2e",
   "metadata": {},
   "outputs": [
    {
     "name": "stdout",
     "output_type": "stream",
     "text": [
      "[0.2        0.2172074  0.23589527 0.25619098 0.27823288 0.3021712\n",
      " 0.3281691  0.35640378 0.38706769 0.42036983 0.45653718 0.49581626\n",
      " 0.5384748  0.58480355 0.63511828 0.68976194 0.74910698 0.81355789\n",
      " 0.88355396 0.95957228 1.04213098 1.13179279 1.22916883 1.33492281\n",
      " 1.44977555 1.57450986 1.70997595 1.85709712 2.01687616 2.19040211\n",
      " 2.3788577  2.58352745 2.80580636 3.04720948 3.3093822  3.59411147\n",
      " 3.90333798 4.23916941 4.60389477 5.        ] \n",
      "scalefactor 4.999999999999999 <br>\n",
      "Epi:(1.001199729145171, 48.18432595338822), PrE: (65.19699925320253, 2.3006232794089474)<br>\n",
      "Euclidian distance: 78.90763491327755 <br>\n"
     ]
    }
   ],
   "source": [
    "# read the plots\n",
    "dataframe = GN_alphaNG_df\n",
    "\n",
    "\n",
    "index=-1\n",
    "\n",
    "s = dataframe[\"rel change\"].unique()\n",
    "print(s,\"\\nscalefactor\" ,s[index],\"<br>\")\n",
    "\n",
    "mask_gata_pre = dataframe[dataframe[\"rel change\"]==s[index]][\"ss gata6\"] > 2\n",
    "mask_gata_epi = dataframe[dataframe[\"rel change\"]==s[index]][\"ss gata6\"] < 2\n",
    "\n",
    "mask_nanog_pre = dataframe[dataframe[\"rel change\"]==s[index]][\"ss nanog\"] < 4\n",
    "mask_nanog_epi = dataframe[dataframe[\"rel change\"]==s[index]][\"ss nanog\"] > 4\n",
    "\n",
    "\n",
    "pre_gata6=np.mean(dataframe[dataframe[\"rel change\"]==s[index]][\"ss gata6\"][mask_gata_pre])\n",
    "epi_gata6=np.mean(dataframe[dataframe[\"rel change\"]==s[index]][\"ss gata6\"][mask_gata_epi])\n",
    "pre_nanog=np.mean(dataframe[dataframe[\"rel change\"]==s[index]][\"ss nanog\"][mask_nanog_pre])\n",
    "epi_nanog=np.mean(dataframe[dataframe[\"rel change\"]==s[index]][\"ss nanog\"][mask_nanog_epi])\n",
    "\n",
    "\n",
    "print(f\"Epi:{epi_gata6, epi_nanog}, PrE: {pre_gata6, pre_nanog}<br>\")\n",
    "\n",
    "distance = np.sqrt((epi_gata6-pre_gata6)**2+(epi_nanog-pre_nanog)**2)\n",
    "\n",
    "print(f\"Euclidian distance: {distance} <br>\")"
   ]
  },
  {
   "cell_type": "code",
   "execution_count": 6,
   "id": "901853ef",
   "metadata": {},
   "outputs": [
    {
     "name": "stdout",
     "output_type": "stream",
     "text": [
      "[0.2        0.2172074  0.23589527 0.25619098 0.27823288 0.3021712\n",
      " 0.3281691  0.35640378 0.38706769 0.42036983 0.45653718 0.49581626\n",
      " 0.5384748  0.58480355 0.63511828 0.68976194 0.74910698 0.81355789\n",
      " 0.88355396 0.95957228 1.04213098 1.13179279 1.22916883 1.33492281\n",
      " 1.44977555 1.57450986 1.70997595 1.85709712 2.01687616 2.19040211\n",
      " 2.3788577  2.58352745 2.80580636 3.04720948 3.3093822  3.59411147\n",
      " 3.90333798 4.23916941 4.60389477 5.        ] \n",
      "scalefactor 1.1317927911527863 <br>\n",
      "14.053513438531335 2.464771457807097 1.2002874431606578 11.46974399830151\n",
      "Gata6-to-Nanog ratio, PrE: 5.701751127479674 <br>\n",
      "Gata6-to-Nanog ratio, Epi: 0.10464814588175653 <br>\n"
     ]
    }
   ],
   "source": [
    "# read the plots\n",
    "dataframe = GN_kimNG_df\n",
    "\n",
    "\n",
    "index=21#12#28\n",
    "\n",
    "s = dataframe[\"rel change\"].unique()\n",
    "print(s,\"\\nscalefactor\" ,s[index],\"<br>\")\n",
    "\n",
    "mask_gata_pre = dataframe[dataframe[\"rel change\"]==s[index]][\"ss gata6\"] > 6\n",
    "mask_gata_epi = dataframe[dataframe[\"rel change\"]==s[index]][\"ss gata6\"] < 6\n",
    "\n",
    "mask_nanog_pre = dataframe[dataframe[\"rel change\"]==s[index]][\"ss nanog\"] < 6\n",
    "mask_nanog_epi = dataframe[dataframe[\"rel change\"]==s[index]][\"ss nanog\"] > 6\n",
    "\n",
    "\n",
    "pre_gata6=np.mean(dataframe[dataframe[\"rel change\"]==s[index]][\"ss gata6\"][mask_gata_pre])\n",
    "epi_gata6=np.mean(dataframe[dataframe[\"rel change\"]==s[index]][\"ss gata6\"][mask_gata_epi])\n",
    "pre_nanog=np.mean(dataframe[dataframe[\"rel change\"]==s[index]][\"ss nanog\"][mask_nanog_pre])\n",
    "epi_nanog=np.mean(dataframe[dataframe[\"rel change\"]==s[index]][\"ss nanog\"][mask_nanog_epi])\n",
    "\n",
    "print(pre_gata6, pre_nanog, epi_gata6, epi_nanog)\n",
    "print(f\"Gata6-to-Nanog ratio, PrE: {pre_gata6/pre_nanog} <br>\")\n",
    "print(f\"Gata6-to-Nanog ratio, Epi: {epi_gata6/epi_nanog} <br>\")"
   ]
  },
  {
   "cell_type": "markdown",
   "id": "729ada29",
   "metadata": {},
   "source": [
    "**GN, alpha**<br>\n",
    "scalefactor 1.1317927911527863 <br>\n",
    "Epi:(1.0917014820939444, 11.852849815729867), PrE: (14.179862776078465, 2.400740462996709)<br>\n",
    "Euclidian distance: 16.14442124306041 <br>\n",
    "\n",
    "scalefactor 4.999999999999999 <br>\n",
    "Epi:(1.001199729145171, 48.18432595338822), PrE: (65.19699925320253, 2.3006232794089474)<br>\n",
    "Euclidian distance: 78.90763491327755 <br>\n",
    "\n",
    "**GN kmiNG**<br>\n",
    "scalefactor 0.5384747991560215 <br>\n",
    "Epi:(1.0074800380476947, 11.262800307402934), PrE: (6.91877888498833, 2.4443277647150916)<br>\n",
    "Euclidian distance: 10.616445358215767 <br>\n",
    "\n",
    "Gata6-to-Nanog ratio, PrE: 2.830544653161429 <br>\n",
    "Gata6-to-Nanog ratio, Epi: 0.08945200221524725 <br>\n",
    "\n",
    "scalefactor 2.0168761605950327 <br>\n",
    "Epi:(4.644281173194556, 10.978754236055929), PrE: (14.53106470808778, 3.6487799076487937)<br>\n",
    "Euclidian distance: 12.307599779036664 <br>\n",
    "Gata6-to-Nanog ratio, PrE: 3.9824448379653923 <br>\n",
    "Gata6-to-Nanog ratio, Epi: 0.4230244227475297 <br>\n"
   ]
  },
  {
   "cell_type": "code",
   "execution_count": 7,
   "id": "c37f7ff0",
   "metadata": {},
   "outputs": [],
   "source": [
    "# 3. plot figures, pdf\n",
    "\n",
    "plot_figures=False  # check if you want to save the figures, too.\n",
    "\n",
    "if plot_figures:\n",
    "    plot_bifurcation_diagram_gata_nanog_alpha_kmiNG(dataframe=GN_alphaNG_df,\n",
    "                                                    filename_figure=\"GN_alphaNG\",\n",
    "                                                    date=\"241015\",\n",
    "                                                    savefig=True\n",
    "                                                   )\n",
    "\n",
    "    plot_bifurcation_diagram_gata_nanog_alpha_kmiNG(dataframe=GNE_alphaNG_df,\n",
    "                                                    filename_figure=\"GNE_alphaNG\",\n",
    "                                                    date=\"241015\",\n",
    "                                                    savefig=True\n",
    "                                                   )\n",
    "\n",
    "    plot_bifurcation_diagram_gata_nanog_alpha_kmiNG(dataframe=GN_kimNG_df,\n",
    "                                                    filename_figure=\"GN_KmiNG\",\n",
    "                                                    date=\"241015\",\n",
    "                                                    savefig=True\n",
    "                                                   )\n",
    "\n",
    "    plot_bifurcation_diagram_gata_nanog_alpha_kmiNG(dataframe=GNE_kimNG_df,\n",
    "                                                    filename_figure=\"GNE_KmiNG\",\n",
    "                                                    date=\"241015\",\n",
    "                                                    savefig=True\n",
    "                                                   )\n",
    "    \n",
    "    \n",
    "plot_figures=False # pdf=False, makes png files\n",
    "\n",
    "if plot_figures:\n",
    "    plot_bifurcation_diagram_gata_nanog_alpha_kmiNG(dataframe=GN_alphaNG_df,\n",
    "                                                    filename_figure=\"GN_alphaNG\",\n",
    "                                                    date=\"241028\",\n",
    "                                                    font_size_axis_title=30,\n",
    "                                                    savefig=True,pdf=False\n",
    "                                                   )\n",
    "\n",
    "    plot_bifurcation_diagram_gata_nanog_alpha_kmiNG(dataframe=GNE_alphaNG_df,\n",
    "                                                    filename_figure=\"GNE_alphaNG\",\n",
    "                                                    date=\"241028\",\n",
    "                                                    font_size_axis_title=30,\n",
    "                                                    savefig=True,pdf=False\n",
    "                                                   )\n",
    "\n",
    "    plot_bifurcation_diagram_gata_nanog_alpha_kmiNG(dataframe=GN_kimNG_df,\n",
    "                                                    filename_figure=\"GN_KmiNG\",\n",
    "                                                    date=\"241028\",\n",
    "                                                    font_size_axis_title=30,\n",
    "                                                    savefig=True,pdf=False\n",
    "                                                   )\n",
    "\n",
    "    plot_bifurcation_diagram_gata_nanog_alpha_kmiNG(dataframe=GNE_kimNG_df,\n",
    "                                                    filename_figure=\"GNE_KmiNG\",\n",
    "                                                    date=\"241028\",\n",
    "                                                    font_size_axis_title=30,\n",
    "                                                    savefig=True,pdf=False\n",
    "                                                   )"
   ]
  },
  {
   "cell_type": "markdown",
   "id": "35a5d203",
   "metadata": {},
   "source": [
    "why does the parameters that are only evaluated in the GNE network not influence the robustness conditions?"
   ]
  },
  {
   "cell_type": "code",
   "execution_count": 8,
   "id": "c4cc74ce",
   "metadata": {},
   "outputs": [],
   "source": [
    "from scipy.integrate import solve_ivp"
   ]
  },
  {
   "cell_type": "code",
   "execution_count": 9,
   "id": "88ff7aa7",
   "metadata": {},
   "outputs": [],
   "source": [
    "def sample_trajectories_till_steady_state(model, tmax, ic, parameters):\n",
    "    \n",
    "    \n",
    "    sol = solve_ivp(model,(0,tmax), ic, args=[parameters])\n",
    "        \n",
    "    def find_time_ss(sol):\n",
    "        #trajectory = []\n",
    "        timepoints = []\n",
    "        \n",
    "        count = 0\n",
    "        dcount = 5\n",
    "        slope = 10 # some high number\n",
    "        ss_threshold = 0.01 # convergence\n",
    "\n",
    "        # note: in case ss isn't reached within tmax, the time condition is added.\n",
    "        while sol.t[count] < sol.t[-1] and slope > ss_threshold:\n",
    "            if count-dcount > 0: # ensure that the previous element exists\n",
    "                # I measure the relative change in Nanog and Gata6 levels between time point i-5 and i.\n",
    "                # I use the max relative change as a condition.\n",
    "                slope = np.max((sol.y[:2, count]-sol.y[:2, count-dcount])/sol.y[:2, count-dcount])\n",
    "            count += 1\n",
    "            timepoints.append(sol.t[count])\n",
    "            \n",
    "        return count, timepoints#count-1, sol.t[count]\n",
    "        \n",
    "    count_ss, timepoints = find_time_ss(sol)\n",
    "    \n",
    "    return sol.y[:,0:count_ss], timepoints"
   ]
  },
  {
   "cell_type": "code",
   "execution_count": 10,
   "id": "03efd225",
   "metadata": {},
   "outputs": [
    {
     "data": {
      "text/plain": [
       "0.5347244000266966"
      ]
     },
     "execution_count": 10,
     "metadata": {},
     "output_type": "execute_result"
    }
   ],
   "source": [
    "icnanog=GNE_alphaNG_df[\"ic nanog\"].unique()\n",
    "icnanog[15]"
   ]
  },
  {
   "cell_type": "code",
   "execution_count": 11,
   "id": "c143a69f",
   "metadata": {},
   "outputs": [
    {
     "data": {
      "text/plain": [
       "array([1.445971])"
      ]
     },
     "execution_count": 11,
     "metadata": {},
     "output_type": "execute_result"
    }
   ],
   "source": [
    "GNE_alphaNG_df[(GNE_alphaNG_df[\"ic gata6\"]==0.1)&(GNE_alphaNG_df[\"ic nanog\"]==icnanog[15])][\"ic essrb\"].unique()"
   ]
  },
  {
   "cell_type": "code",
   "execution_count": 12,
   "id": "cb8f0341",
   "metadata": {},
   "outputs": [
    {
     "data": {
      "text/html": [
       "<div>\n",
       "<style scoped>\n",
       "    .dataframe tbody tr th:only-of-type {\n",
       "        vertical-align: middle;\n",
       "    }\n",
       "\n",
       "    .dataframe tbody tr th {\n",
       "        vertical-align: top;\n",
       "    }\n",
       "\n",
       "    .dataframe thead th {\n",
       "        text-align: right;\n",
       "    }\n",
       "</style>\n",
       "<table border=\"1\" class=\"dataframe\">\n",
       "  <thead>\n",
       "    <tr style=\"text-align: right;\">\n",
       "      <th></th>\n",
       "      <th>ic gata6</th>\n",
       "      <th>ic nanog</th>\n",
       "      <th>ic essrb</th>\n",
       "    </tr>\n",
       "  </thead>\n",
       "  <tbody>\n",
       "    <tr>\n",
       "      <th>0</th>\n",
       "      <td>0.100000</td>\n",
       "      <td>0.10000</td>\n",
       "      <td>0.994172</td>\n",
       "    </tr>\n",
       "    <tr>\n",
       "      <th>1</th>\n",
       "      <td>0.111826</td>\n",
       "      <td>0.10000</td>\n",
       "      <td>0.994172</td>\n",
       "    </tr>\n",
       "    <tr>\n",
       "      <th>2</th>\n",
       "      <td>0.125050</td>\n",
       "      <td>0.10000</td>\n",
       "      <td>0.994172</td>\n",
       "    </tr>\n",
       "    <tr>\n",
       "      <th>3</th>\n",
       "      <td>0.139838</td>\n",
       "      <td>0.10000</td>\n",
       "      <td>0.994172</td>\n",
       "    </tr>\n",
       "    <tr>\n",
       "      <th>4</th>\n",
       "      <td>0.156375</td>\n",
       "      <td>0.10000</td>\n",
       "      <td>0.994172</td>\n",
       "    </tr>\n",
       "    <tr>\n",
       "      <th>...</th>\n",
       "      <td>...</td>\n",
       "      <td>...</td>\n",
       "      <td>...</td>\n",
       "    </tr>\n",
       "    <tr>\n",
       "      <th>45075</th>\n",
       "      <td>0.305788</td>\n",
       "      <td>4.47124</td>\n",
       "      <td>12.931263</td>\n",
       "    </tr>\n",
       "    <tr>\n",
       "      <th>45076</th>\n",
       "      <td>0.341950</td>\n",
       "      <td>4.47124</td>\n",
       "      <td>12.931263</td>\n",
       "    </tr>\n",
       "    <tr>\n",
       "      <th>45077</th>\n",
       "      <td>0.382388</td>\n",
       "      <td>4.47124</td>\n",
       "      <td>12.931263</td>\n",
       "    </tr>\n",
       "    <tr>\n",
       "      <th>45078</th>\n",
       "      <td>0.427608</td>\n",
       "      <td>4.47124</td>\n",
       "      <td>12.931263</td>\n",
       "    </tr>\n",
       "    <tr>\n",
       "      <th>45079</th>\n",
       "      <td>0.478176</td>\n",
       "      <td>4.47124</td>\n",
       "      <td>12.931263</td>\n",
       "    </tr>\n",
       "  </tbody>\n",
       "</table>\n",
       "<p>45080 rows × 3 columns</p>\n",
       "</div>"
      ],
      "text/plain": [
       "       ic gata6  ic nanog   ic essrb\n",
       "0      0.100000   0.10000   0.994172\n",
       "1      0.111826   0.10000   0.994172\n",
       "2      0.125050   0.10000   0.994172\n",
       "3      0.139838   0.10000   0.994172\n",
       "4      0.156375   0.10000   0.994172\n",
       "...         ...       ...        ...\n",
       "45075  0.305788   4.47124  12.931263\n",
       "45076  0.341950   4.47124  12.931263\n",
       "45077  0.382388   4.47124  12.931263\n",
       "45078  0.427608   4.47124  12.931263\n",
       "45079  0.478176   4.47124  12.931263\n",
       "\n",
       "[45080 rows x 3 columns]"
      ]
     },
     "execution_count": 12,
     "metadata": {},
     "output_type": "execute_result"
    }
   ],
   "source": [
    "GNE_alphaNG_df[[\"ic gata6\", \"ic nanog\", \"ic essrb\"]]"
   ]
  },
  {
   "cell_type": "code",
   "execution_count": 13,
   "id": "7f53d5ac",
   "metadata": {},
   "outputs": [
    {
     "data": {
      "text/plain": [
       "{'basal_N': 3.5,\n",
       " 'basal_G': 1,\n",
       " 'basal_E': 1,\n",
       " 'wf_G': 14,\n",
       " 'wf_N': 14,\n",
       " 'wf_E': 12,\n",
       " 'tau_G': 1,\n",
       " 'tau_N': 1,\n",
       " 'tau_E': 1,\n",
       " 'K_GG': 1.2,\n",
       " 'K_NN': 1.2,\n",
       " 'K_GN': 4.2,\n",
       " 'K_NG': 4.2,\n",
       " 'K_FN': 1,\n",
       " 'K_FE': 3,\n",
       " 'K_EN': 1.2,\n",
       " 'K_NE': 1.2,\n",
       " 'K_NEG': 1.2,\n",
       " 'K_EG': 1.2,\n",
       " 'h': 4,\n",
       " 'FGF': 0.85}"
      ]
     },
     "execution_count": 13,
     "metadata": {},
     "output_type": "execute_result"
    }
   ],
   "source": [
    "par0"
   ]
  },
  {
   "cell_type": "code",
   "execution_count": 14,
   "id": "9614d513",
   "metadata": {},
   "outputs": [
    {
     "data": {
      "image/png": "[encoded data removed]",
      "text/plain": [
       "<Figure size 640x480 with 1 Axes>"
      ]
     },
     "metadata": {},
     "output_type": "display_data"
    },
    {
     "data": {
      "image/png": "[encoded data removed]",
      "text/plain": [
       "<Figure size 640x480 with 1 Axes>"
      ]
     },
     "metadata": {},
     "output_type": "display_data"
    }
   ],
   "source": [
    "par0[\"K_EG\"]=5*1.2\n",
    "fig, ax = plt.subplots()\n",
    "for ic in [[0.5, 0.1, 1.4]]: #pre\n",
    "    pos, time = sample_trajectories_till_steady_state(equations_NGE_and_F, 200, ic, par0)\n",
    "\n",
    "    ax.plot(time, pos[0], color=\"red\",label=\"[GATA6]\", alpha=1)\n",
    "    ax.plot(time, pos[1], color=\"green\",label=\"[NANOG]\", alpha=1)\n",
    "    ax.plot(time, pos[2], color=\"blue\",label=\"[ESRRB]\", alpha=1)\n",
    "    \n",
    "    \n",
    "par0[\"K_EG\"]=0.2*1.2\n",
    "fig, ax = plt.subplots()\n",
    "for ic in [[0.5, 0.1, 1.4]]: #pre\n",
    "    pos, time = sample_trajectories_till_steady_state(equations_NGE_and_F, 200, ic, par0)\n",
    "\n",
    "    ax.plot(time, pos[0], color=\"red\",label=\"[GATA6]\", alpha=1)\n",
    "    ax.plot(time, pos[1], color=\"green\",label=\"[NANOG]\", alpha=1)\n",
    "    ax.plot(time, pos[2], color=\"blue\",label=\"[ESRRB]\", alpha=1)"
   ]
  },
  {
   "cell_type": "code",
   "execution_count": 15,
   "id": "ba876020",
   "metadata": {},
   "outputs": [
    {
     "data": {
      "image/png": "[encoded data removed]",
      "text/plain": [
       "<Figure size 640x480 with 1 Axes>"
      ]
     },
     "metadata": {},
     "output_type": "display_data"
    },
    {
     "data": {
      "image/png": "[encoded data removed]",
      "text/plain": [
       "<Figure size 640x480 with 1 Axes>"
      ]
     },
     "metadata": {},
     "output_type": "display_data"
    }
   ],
   "source": [
    "par0[\"K_EG\"]=5*1.2\n",
    "fig, ax = plt.subplots()\n",
    "for ic in [[0.1, 0.5, 1.4]]: #epi\n",
    "    pos, time = sample_trajectories_till_steady_state(equations_NGE_and_F, 200, ic, par0)\n",
    "\n",
    "    ax.plot(time, pos[0], color=\"red\",label=\"[GATA6]\", alpha=1)\n",
    "    ax.plot(time, pos[1], color=\"green\",label=\"[NANOG]\", alpha=1)\n",
    "    ax.plot(time, pos[2], color=\"blue\",label=\"[ESRRB]\", alpha=1)\n",
    "    \n",
    "par0[\"K_EG\"]=0.2*1.2\n",
    "fig, ax = plt.subplots()\n",
    "for ic in [[0.1, 0.5, 1.4]]: #epi\n",
    "    pos, time = sample_trajectories_till_steady_state(equations_NGE_and_F, 200, ic, par0)\n",
    "\n",
    "    ax.plot(time, pos[0], color=\"red\",label=\"[GATA6]\", alpha=1)\n",
    "    ax.plot(time, pos[1], color=\"green\",label=\"[NANOG]\", alpha=1)\n",
    "    ax.plot(time, pos[2], color=\"blue\",label=\"[ESRRB]\", alpha=1)"
   ]
  },
  {
   "cell_type": "code",
   "execution_count": null,
   "id": "a5335771",
   "metadata": {},
   "outputs": [],
   "source": []
  }
 ],
 "metadata": {
  "kernelspec": {
   "display_name": "Python 3 (ipykernel)",
   "language": "python",
   "name": "python3"
  },
  "language_info": {
   "codemirror_mode": {
    "name": "ipython",
    "version": 3
   },
   "file_extension": ".py",
   "mimetype": "text/x-python",
   "name": "python",
   "nbconvert_exporter": "python",
   "pygments_lexer": "ipython3",
   "version": "3.11.5"
  }
 },
 "nbformat": 4,
 "nbformat_minor": 5
}
